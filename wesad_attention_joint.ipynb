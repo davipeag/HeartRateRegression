{
  "nbformat": 4,
  "nbformat_minor": 0,
  "metadata": {
    "orig_nbformat": 2,
    "colab": {
      "name": "ppg.ipynb",
      "provenance": []
    },
    "kernelspec": {
      "name": "python3",
      "display_name": "Python 3"
    },
    "accelerator": "GPU"
  },
  "cells": [
    {
      "cell_type": "code",
      "metadata": {
        "id": "Ksg4pPcCWcJR",
        "outputId": "8fca2c9c-23ec-41f2-b28b-f1a7f807f2ea",
        "colab": {
          "base_uri": "https://localhost:8080/"
        }
      },
      "source": [
        "!pip install wget\n",
        "import os\n",
        "import torch\n",
        "import pandas as pd\n",
        "import numpy as np\n",
        "import torch\n",
        "from torch import nn\n",
        "\n",
        "\n",
        "ssh_config = \"\"\"\n",
        "Host github.com\n",
        "  IdentityFile ~/.ssh/github.pem\n",
        "  User davipeag\n",
        "  StrictHostKeyChecking no\n",
        "\"\"\"\n",
        "\n",
        "if os.name == 'nt':\n",
        "  base_path = \"\"\n",
        "  REPO_DIR = \".\"\n",
        "  STORE_DIR =\".\" \n",
        "  print(\"Windows\")\n",
        "else:\n",
        "  print(\"Unix-like\")\n",
        "  REPO_DIR = \"/tmp/HeartRateRegression\"\n",
        "  from google.colab import drive\n",
        "  drive.mount('/content/drive')\n",
        "  GIT_PATH = \"/content/drive/My\\ Drive/deeplearning_project/github.pem\"\n",
        "  DATA_DIR = os.path.join(REPO_DIR, \"repo\")\n",
        "  STORE_DIR =\"/content/drive/My Drive/deeplearning_project/\" \n",
        "  !mkdir ~/.ssh\n",
        "  !cp -u {GIT_PATH} ~/.ssh/\n",
        "  !chmod u=rw,g=,o= ~/.ssh/github.pem\n",
        "  !echo \"{ssh_config}\" > ~/.ssh/config\n",
        "  !chmod u=rw,g=,o= ~/.ssh/config\n",
        "  ! (cd /tmp && git clone git@github.com:davipeag/HeartRateRegression.git)\n",
        "  ! (cd {REPO_DIR} && git pull )\n",
        "  import sys\n",
        "  sys.path.append(REPO_DIR)\n",
        "\n",
        "def git_pull():\n",
        "  ! (cd {REPO_DIR} && git pull )\n",
        "\n",
        "git_pull()"
      ],
      "execution_count": 1,
      "outputs": [
        {
          "output_type": "stream",
          "text": [
            "Collecting wget\n",
            "  Downloading https://files.pythonhosted.org/packages/47/6a/62e288da7bcda82b935ff0c6cfe542970f04e29c756b0e147251b2fb251f/wget-3.2.zip\n",
            "Building wheels for collected packages: wget\n",
            "  Building wheel for wget (setup.py) ... \u001b[?25l\u001b[?25hdone\n",
            "  Created wheel for wget: filename=wget-3.2-cp36-none-any.whl size=9682 sha256=30b500cf1f36bae3c0c3f73bb044b0d81d56f7ba3b67f7a17c34ea9cf09b67bf\n",
            "  Stored in directory: /root/.cache/pip/wheels/40/15/30/7d8f7cea2902b4db79e3fea550d7d7b85ecb27ef992b618f3f\n",
            "Successfully built wget\n",
            "Installing collected packages: wget\n",
            "Successfully installed wget-3.2\n",
            "Unix-like\n",
            "Mounted at /content/drive\n",
            "Cloning into 'HeartRateRegression'...\n",
            "Warning: Permanently added 'github.com,140.82.112.4' (RSA) to the list of known hosts.\n",
            "remote: Enumerating objects: 10, done.\u001b[K\n",
            "remote: Counting objects: 100% (10/10), done.\u001b[K\n",
            "remote: Compressing objects: 100% (7/7), done.\u001b[K\n",
            "remote: Total 1030 (delta 3), reused 8 (delta 3), pack-reused 1020\u001b[K\n",
            "Receiving objects: 100% (1030/1030), 88.31 MiB | 36.79 MiB/s, done.\n",
            "Resolving deltas: 100% (671/671), done.\n",
            "Warning: Permanently added the RSA host key for IP address '140.82.114.4' to the list of known hosts.\n",
            "Already up to date.\n",
            "Already up to date.\n"
          ],
          "name": "stdout"
        }
      ]
    },
    {
      "cell_type": "code",
      "metadata": {
        "id": "JCFiZv0xM1pa",
        "outputId": "2f2adeff-8ab2-4159-c45e-81c99bfc09a3",
        "colab": {
          "base_uri": "https://localhost:8080/"
        }
      },
      "source": [
        "import random\n",
        "import torch\n",
        "from torch import nn\n",
        "import numpy as np\n",
        "args = {\n",
        "    'epoch_num': 250,     # Number of epochs.\n",
        "    'lr': 1.0e-3,           # Learning rate.\n",
        "    'weight_decay': 10e-4, # L2 penalty.\n",
        "    'momentum': 0.9,      # Momentum.\n",
        "    'num_workers': 0,     # Number of workers on data loader.\n",
        "    'batch_size': 128,     # Mini-batch size. 128\n",
        "    'batch_test': 248,     # size of test batch\n",
        "    'window': 15,\n",
        "    'initial_window':5,\n",
        "    'clip_norm': 6.0,     # Upper limit on gradient L2 norm ###\n",
        "}\n",
        "if torch.cuda.is_available():\n",
        "    args['device'] = torch.device('cuda')\n",
        "else:\n",
        "    args['device'] = torch.device('cpu')\n",
        "\n",
        "print(args['device'])\n",
        "\n",
        "SEED = 1234\n",
        "def reset_seeds():\n",
        "  random.seed(SEED)\n",
        "  np.random.seed(SEED)\n",
        "  torch.manual_seed(SEED)\n",
        "  torch.backends.cudnn.deterministic = True\n",
        "  torch.backends.cudnn.benchmark = False\n",
        "  torch.cuda.manual_seed(SEED)\n",
        "  torch.backends.cudnn.deterministic = True\n",
        "  torch.backends.cudnn.benchmark = False\n",
        "\n",
        "reset_seeds()"
      ],
      "execution_count": 2,
      "outputs": [
        {
          "output_type": "stream",
          "text": [
            "cuda\n"
          ],
          "name": "stdout"
        }
      ]
    },
    {
      "cell_type": "code",
      "metadata": {
        "id": "8WJogg0JO2PT",
        "outputId": "fd747397-50a0-4077-c7cb-2b18a6e5e219",
        "colab": {
          "base_uri": "https://localhost:8080/"
        }
      },
      "source": [
        "!pip install heartpy"
      ],
      "execution_count": 3,
      "outputs": [
        {
          "output_type": "stream",
          "text": [
            "Collecting heartpy\n",
            "\u001b[?25l  Downloading https://files.pythonhosted.org/packages/ab/1c/8a00260626770b4ec5980942df2c3b0ba7f0f56d77ff9b7ac5f241d646b5/heartpy-1.2.6-py3-none-any.whl (1.0MB)\n",
            "\r\u001b[K     |▎                               | 10kB 23.1MB/s eta 0:00:01\r\u001b[K     |▋                               | 20kB 28.0MB/s eta 0:00:01\r\u001b[K     |█                               | 30kB 31.2MB/s eta 0:00:01\r\u001b[K     |█▎                              | 40kB 22.5MB/s eta 0:00:01\r\u001b[K     |█▋                              | 51kB 24.5MB/s eta 0:00:01\r\u001b[K     |██                              | 61kB 26.8MB/s eta 0:00:01\r\u001b[K     |██▎                             | 71kB 23.5MB/s eta 0:00:01\r\u001b[K     |██▋                             | 81kB 21.4MB/s eta 0:00:01\r\u001b[K     |███                             | 92kB 22.6MB/s eta 0:00:01\r\u001b[K     |███▎                            | 102kB 20.6MB/s eta 0:00:01\r\u001b[K     |███▋                            | 112kB 20.6MB/s eta 0:00:01\r\u001b[K     |███▉                            | 122kB 20.6MB/s eta 0:00:01\r\u001b[K     |████▏                           | 133kB 20.6MB/s eta 0:00:01\r\u001b[K     |████▌                           | 143kB 20.6MB/s eta 0:00:01\r\u001b[K     |████▉                           | 153kB 20.6MB/s eta 0:00:01\r\u001b[K     |█████▏                          | 163kB 20.6MB/s eta 0:00:01\r\u001b[K     |█████▌                          | 174kB 20.6MB/s eta 0:00:01\r\u001b[K     |█████▉                          | 184kB 20.6MB/s eta 0:00:01\r\u001b[K     |██████▏                         | 194kB 20.6MB/s eta 0:00:01\r\u001b[K     |██████▌                         | 204kB 20.6MB/s eta 0:00:01\r\u001b[K     |██████▉                         | 215kB 20.6MB/s eta 0:00:01\r\u001b[K     |███████▏                        | 225kB 20.6MB/s eta 0:00:01\r\u001b[K     |███████▌                        | 235kB 20.6MB/s eta 0:00:01\r\u001b[K     |███████▊                        | 245kB 20.6MB/s eta 0:00:01\r\u001b[K     |████████                        | 256kB 20.6MB/s eta 0:00:01\r\u001b[K     |████████▍                       | 266kB 20.6MB/s eta 0:00:01\r\u001b[K     |████████▊                       | 276kB 20.6MB/s eta 0:00:01\r\u001b[K     |█████████                       | 286kB 20.6MB/s eta 0:00:01\r\u001b[K     |█████████▍                      | 296kB 20.6MB/s eta 0:00:01\r\u001b[K     |█████████▊                      | 307kB 20.6MB/s eta 0:00:01\r\u001b[K     |██████████                      | 317kB 20.6MB/s eta 0:00:01\r\u001b[K     |██████████▍                     | 327kB 20.6MB/s eta 0:00:01\r\u001b[K     |██████████▊                     | 337kB 20.6MB/s eta 0:00:01\r\u001b[K     |███████████                     | 348kB 20.6MB/s eta 0:00:01\r\u001b[K     |███████████▎                    | 358kB 20.6MB/s eta 0:00:01\r\u001b[K     |███████████▋                    | 368kB 20.6MB/s eta 0:00:01\r\u001b[K     |████████████                    | 378kB 20.6MB/s eta 0:00:01\r\u001b[K     |████████████▎                   | 389kB 20.6MB/s eta 0:00:01\r\u001b[K     |████████████▋                   | 399kB 20.6MB/s eta 0:00:01\r\u001b[K     |█████████████                   | 409kB 20.6MB/s eta 0:00:01\r\u001b[K     |█████████████▎                  | 419kB 20.6MB/s eta 0:00:01\r\u001b[K     |█████████████▋                  | 430kB 20.6MB/s eta 0:00:01\r\u001b[K     |██████████████                  | 440kB 20.6MB/s eta 0:00:01\r\u001b[K     |██████████████▎                 | 450kB 20.6MB/s eta 0:00:01\r\u001b[K     |██████████████▋                 | 460kB 20.6MB/s eta 0:00:01\r\u001b[K     |███████████████                 | 471kB 20.6MB/s eta 0:00:01\r\u001b[K     |███████████████▏                | 481kB 20.6MB/s eta 0:00:01\r\u001b[K     |███████████████▌                | 491kB 20.6MB/s eta 0:00:01\r\u001b[K     |███████████████▉                | 501kB 20.6MB/s eta 0:00:01\r\u001b[K     |████████████████▏               | 512kB 20.6MB/s eta 0:00:01\r\u001b[K     |████████████████▌               | 522kB 20.6MB/s eta 0:00:01\r\u001b[K     |████████████████▉               | 532kB 20.6MB/s eta 0:00:01\r\u001b[K     |█████████████████▏              | 542kB 20.6MB/s eta 0:00:01\r\u001b[K     |█████████████████▌              | 552kB 20.6MB/s eta 0:00:01\r\u001b[K     |█████████████████▉              | 563kB 20.6MB/s eta 0:00:01\r\u001b[K     |██████████████████▏             | 573kB 20.6MB/s eta 0:00:01\r\u001b[K     |██████████████████▌             | 583kB 20.6MB/s eta 0:00:01\r\u001b[K     |██████████████████▉             | 593kB 20.6MB/s eta 0:00:01\r\u001b[K     |███████████████████             | 604kB 20.6MB/s eta 0:00:01\r\u001b[K     |███████████████████▍            | 614kB 20.6MB/s eta 0:00:01\r\u001b[K     |███████████████████▊            | 624kB 20.6MB/s eta 0:00:01\r\u001b[K     |████████████████████            | 634kB 20.6MB/s eta 0:00:01\r\u001b[K     |████████████████████▍           | 645kB 20.6MB/s eta 0:00:01\r\u001b[K     |████████████████████▊           | 655kB 20.6MB/s eta 0:00:01\r\u001b[K     |█████████████████████           | 665kB 20.6MB/s eta 0:00:01\r\u001b[K     |█████████████████████▍          | 675kB 20.6MB/s eta 0:00:01\r\u001b[K     |█████████████████████▊          | 686kB 20.6MB/s eta 0:00:01\r\u001b[K     |██████████████████████          | 696kB 20.6MB/s eta 0:00:01\r\u001b[K     |██████████████████████▍         | 706kB 20.6MB/s eta 0:00:01\r\u001b[K     |██████████████████████▋         | 716kB 20.6MB/s eta 0:00:01\r\u001b[K     |███████████████████████         | 727kB 20.6MB/s eta 0:00:01\r\u001b[K     |███████████████████████▎        | 737kB 20.6MB/s eta 0:00:01\r\u001b[K     |███████████████████████▋        | 747kB 20.6MB/s eta 0:00:01\r\u001b[K     |████████████████████████        | 757kB 20.6MB/s eta 0:00:01\r\u001b[K     |████████████████████████▎       | 768kB 20.6MB/s eta 0:00:01\r\u001b[K     |████████████████████████▋       | 778kB 20.6MB/s eta 0:00:01\r\u001b[K     |█████████████████████████       | 788kB 20.6MB/s eta 0:00:01\r\u001b[K     |█████████████████████████▎      | 798kB 20.6MB/s eta 0:00:01\r\u001b[K     |█████████████████████████▋      | 808kB 20.6MB/s eta 0:00:01\r\u001b[K     |██████████████████████████      | 819kB 20.6MB/s eta 0:00:01\r\u001b[K     |██████████████████████████▎     | 829kB 20.6MB/s eta 0:00:01\r\u001b[K     |██████████████████████████▌     | 839kB 20.6MB/s eta 0:00:01\r\u001b[K     |██████████████████████████▉     | 849kB 20.6MB/s eta 0:00:01\r\u001b[K     |███████████████████████████▏    | 860kB 20.6MB/s eta 0:00:01\r\u001b[K     |███████████████████████████▌    | 870kB 20.6MB/s eta 0:00:01\r\u001b[K     |███████████████████████████▉    | 880kB 20.6MB/s eta 0:00:01\r\u001b[K     |████████████████████████████▏   | 890kB 20.6MB/s eta 0:00:01\r\u001b[K     |████████████████████████████▌   | 901kB 20.6MB/s eta 0:00:01\r\u001b[K     |████████████████████████████▉   | 911kB 20.6MB/s eta 0:00:01\r\u001b[K     |█████████████████████████████▏  | 921kB 20.6MB/s eta 0:00:01\r\u001b[K     |█████████████████████████████▌  | 931kB 20.6MB/s eta 0:00:01\r\u001b[K     |█████████████████████████████▉  | 942kB 20.6MB/s eta 0:00:01\r\u001b[K     |██████████████████████████████  | 952kB 20.6MB/s eta 0:00:01\r\u001b[K     |██████████████████████████████▍ | 962kB 20.6MB/s eta 0:00:01\r\u001b[K     |██████████████████████████████▊ | 972kB 20.6MB/s eta 0:00:01\r\u001b[K     |███████████████████████████████ | 983kB 20.6MB/s eta 0:00:01\r\u001b[K     |███████████████████████████████▍| 993kB 20.6MB/s eta 0:00:01\r\u001b[K     |███████████████████████████████▊| 1.0MB 20.6MB/s eta 0:00:01\r\u001b[K     |████████████████████████████████| 1.0MB 20.6MB/s \n",
            "\u001b[?25hRequirement already satisfied: numpy; python_version >= \"3.5\" in /usr/local/lib/python3.6/dist-packages (from heartpy) (1.18.5)\n",
            "Requirement already satisfied: scipy; python_version >= \"3.5\" in /usr/local/lib/python3.6/dist-packages (from heartpy) (1.4.1)\n",
            "Requirement already satisfied: matplotlib; python_version >= \"3.6\" in /usr/local/lib/python3.6/dist-packages (from heartpy) (3.2.2)\n",
            "Requirement already satisfied: cycler>=0.10 in /usr/local/lib/python3.6/dist-packages (from matplotlib; python_version >= \"3.6\"->heartpy) (0.10.0)\n",
            "Requirement already satisfied: pyparsing!=2.0.4,!=2.1.2,!=2.1.6,>=2.0.1 in /usr/local/lib/python3.6/dist-packages (from matplotlib; python_version >= \"3.6\"->heartpy) (2.4.7)\n",
            "Requirement already satisfied: kiwisolver>=1.0.1 in /usr/local/lib/python3.6/dist-packages (from matplotlib; python_version >= \"3.6\"->heartpy) (1.3.1)\n",
            "Requirement already satisfied: python-dateutil>=2.1 in /usr/local/lib/python3.6/dist-packages (from matplotlib; python_version >= \"3.6\"->heartpy) (2.8.1)\n",
            "Requirement already satisfied: six in /usr/local/lib/python3.6/dist-packages (from cycler>=0.10->matplotlib; python_version >= \"3.6\"->heartpy) (1.15.0)\n",
            "Installing collected packages: heartpy\n",
            "Successfully installed heartpy-1.2.6\n"
          ],
          "name": "stdout"
        }
      ]
    },
    {
      "cell_type": "code",
      "metadata": {
        "id": "Q7V97F8pWmvK",
        "outputId": "ff5e597c-68e7-4a14-f81e-4be02a543fe4",
        "colab": {
          "base_uri": "https://localhost:8080/",
          "height": 374
        }
      },
      "source": [
        "from data_utils import (FormatPPGDalia, WesadExtractor, PpgDaliaExtractor)\n",
        "\n",
        "\n",
        "SUBJECTS_WESAD = [2,3,4,5,6,7,8,9,10,11,13,14,15,16,17]\n",
        "SUBJECTS_DALIA = [1,2,3,4,5,6,7, 9, 10, 11, 12, 13, 14, 15]\n",
        "\n",
        "extractor = WesadExtractor(DATA_DIR)\n",
        "formatter = FormatPPGDalia(from_ecg = True)\n",
        "dfs_wesad = [formatter.transform(extractor.extract_subject(i)) for i in SUBJECTS_WESAD]\n",
        "\n",
        "dalia_extractor = PpgDaliaExtractor(DATA_DIR)\n",
        "dalia_formater =  FormatPPGDalia()\n",
        "dfs_dalia = [dalia_formater.transform(dalia_extractor.extract_subject(i)) for i in SUBJECTS_DALIA]\n",
        "\n",
        "dfs_train = dfs_wesad + dfs_dalia"
      ],
      "execution_count": 5,
      "outputs": [
        {
          "output_type": "error",
          "ename": "KeyboardInterrupt",
          "evalue": "ignored",
          "traceback": [
            "\u001b[0;31m---------------------------------------------------------------------------\u001b[0m",
            "\u001b[0;31mKeyboardInterrupt\u001b[0m                         Traceback (most recent call last)",
            "\u001b[0;32m<ipython-input-5-be9c0ebaf493>\u001b[0m in \u001b[0;36m<module>\u001b[0;34m()\u001b[0m\n\u001b[1;32m      7\u001b[0m \u001b[0mextractor\u001b[0m \u001b[0;34m=\u001b[0m \u001b[0mWesadExtractor\u001b[0m\u001b[0;34m(\u001b[0m\u001b[0mDATA_DIR\u001b[0m\u001b[0;34m)\u001b[0m\u001b[0;34m\u001b[0m\u001b[0;34m\u001b[0m\u001b[0m\n\u001b[1;32m      8\u001b[0m \u001b[0mformatter\u001b[0m \u001b[0;34m=\u001b[0m \u001b[0mFormatPPGDalia\u001b[0m\u001b[0;34m(\u001b[0m\u001b[0mfrom_ecg\u001b[0m \u001b[0;34m=\u001b[0m \u001b[0;32mTrue\u001b[0m\u001b[0;34m)\u001b[0m\u001b[0;34m\u001b[0m\u001b[0;34m\u001b[0m\u001b[0m\n\u001b[0;32m----> 9\u001b[0;31m \u001b[0mdfs_wesad\u001b[0m \u001b[0;34m=\u001b[0m \u001b[0;34m[\u001b[0m\u001b[0mformatter\u001b[0m\u001b[0;34m.\u001b[0m\u001b[0mtransform\u001b[0m\u001b[0;34m(\u001b[0m\u001b[0mextractor\u001b[0m\u001b[0;34m.\u001b[0m\u001b[0mextract_subject\u001b[0m\u001b[0;34m(\u001b[0m\u001b[0mi\u001b[0m\u001b[0;34m)\u001b[0m\u001b[0;34m)\u001b[0m \u001b[0;32mfor\u001b[0m \u001b[0mi\u001b[0m \u001b[0;32min\u001b[0m \u001b[0mSUBJECTS_WESAD\u001b[0m\u001b[0;34m]\u001b[0m\u001b[0;34m\u001b[0m\u001b[0;34m\u001b[0m\u001b[0m\n\u001b[0m\u001b[1;32m     10\u001b[0m \u001b[0;34m\u001b[0m\u001b[0m\n\u001b[1;32m     11\u001b[0m \u001b[0mdalia_extractor\u001b[0m \u001b[0;34m=\u001b[0m \u001b[0mPpgDaliaExtractor\u001b[0m\u001b[0;34m(\u001b[0m\u001b[0mDATA_DIR\u001b[0m\u001b[0;34m)\u001b[0m\u001b[0;34m\u001b[0m\u001b[0;34m\u001b[0m\u001b[0m\n",
            "\u001b[0;32m<ipython-input-5-be9c0ebaf493>\u001b[0m in \u001b[0;36m<listcomp>\u001b[0;34m(.0)\u001b[0m\n\u001b[1;32m      7\u001b[0m \u001b[0mextractor\u001b[0m \u001b[0;34m=\u001b[0m \u001b[0mWesadExtractor\u001b[0m\u001b[0;34m(\u001b[0m\u001b[0mDATA_DIR\u001b[0m\u001b[0;34m)\u001b[0m\u001b[0;34m\u001b[0m\u001b[0;34m\u001b[0m\u001b[0m\n\u001b[1;32m      8\u001b[0m \u001b[0mformatter\u001b[0m \u001b[0;34m=\u001b[0m \u001b[0mFormatPPGDalia\u001b[0m\u001b[0;34m(\u001b[0m\u001b[0mfrom_ecg\u001b[0m \u001b[0;34m=\u001b[0m \u001b[0;32mTrue\u001b[0m\u001b[0;34m)\u001b[0m\u001b[0;34m\u001b[0m\u001b[0;34m\u001b[0m\u001b[0m\n\u001b[0;32m----> 9\u001b[0;31m \u001b[0mdfs_wesad\u001b[0m \u001b[0;34m=\u001b[0m \u001b[0;34m[\u001b[0m\u001b[0mformatter\u001b[0m\u001b[0;34m.\u001b[0m\u001b[0mtransform\u001b[0m\u001b[0;34m(\u001b[0m\u001b[0mextractor\u001b[0m\u001b[0;34m.\u001b[0m\u001b[0mextract_subject\u001b[0m\u001b[0;34m(\u001b[0m\u001b[0mi\u001b[0m\u001b[0;34m)\u001b[0m\u001b[0;34m)\u001b[0m \u001b[0;32mfor\u001b[0m \u001b[0mi\u001b[0m \u001b[0;32min\u001b[0m \u001b[0mSUBJECTS_WESAD\u001b[0m\u001b[0;34m]\u001b[0m\u001b[0;34m\u001b[0m\u001b[0;34m\u001b[0m\u001b[0m\n\u001b[0m\u001b[1;32m     10\u001b[0m \u001b[0;34m\u001b[0m\u001b[0m\n\u001b[1;32m     11\u001b[0m \u001b[0mdalia_extractor\u001b[0m \u001b[0;34m=\u001b[0m \u001b[0mPpgDaliaExtractor\u001b[0m\u001b[0;34m(\u001b[0m\u001b[0mDATA_DIR\u001b[0m\u001b[0;34m)\u001b[0m\u001b[0;34m\u001b[0m\u001b[0;34m\u001b[0m\u001b[0m\n",
            "\u001b[0;32m/tmp/HeartRateRegression/data_utils.py\u001b[0m in \u001b[0;36mextract_subject\u001b[0;34m(self, subject)\u001b[0m\n\u001b[1;32m    166\u001b[0m             \u001b[0;32mtry\u001b[0m\u001b[0;34m:\u001b[0m\u001b[0;34m\u001b[0m\u001b[0;34m\u001b[0m\u001b[0m\n\u001b[1;32m    167\u001b[0m                 \u001b[0;32mwith\u001b[0m \u001b[0mopen\u001b[0m\u001b[0;34m(\u001b[0m\u001b[0mpath\u001b[0m\u001b[0;34m,\u001b[0m \u001b[0;34m\"rb\"\u001b[0m\u001b[0;34m)\u001b[0m \u001b[0;32mas\u001b[0m \u001b[0mf\u001b[0m\u001b[0;34m:\u001b[0m\u001b[0;34m\u001b[0m\u001b[0;34m\u001b[0m\u001b[0m\n\u001b[0;32m--> 168\u001b[0;31m                     \u001b[0mdata\u001b[0m \u001b[0;34m=\u001b[0m \u001b[0mpickle\u001b[0m\u001b[0;34m.\u001b[0m\u001b[0mload\u001b[0m\u001b[0;34m(\u001b[0m\u001b[0mf\u001b[0m\u001b[0;34m,\u001b[0m \u001b[0mencoding\u001b[0m\u001b[0;34m=\u001b[0m\u001b[0;34m\"iso-8859-1\"\u001b[0m\u001b[0;34m)\u001b[0m\u001b[0;34m\u001b[0m\u001b[0;34m\u001b[0m\u001b[0m\n\u001b[0m\u001b[1;32m    169\u001b[0m             \u001b[0;32mexcept\u001b[0m \u001b[0mFileNotFoundError\u001b[0m\u001b[0;34m:\u001b[0m\u001b[0;34m\u001b[0m\u001b[0;34m\u001b[0m\u001b[0m\n\u001b[1;32m    170\u001b[0m                 \u001b[0mself\u001b[0m\u001b[0;34m.\u001b[0m\u001b[0munzip_subject\u001b[0m\u001b[0;34m(\u001b[0m\u001b[0msubject\u001b[0m\u001b[0;34m)\u001b[0m\u001b[0;34m\u001b[0m\u001b[0;34m\u001b[0m\u001b[0m\n",
            "\u001b[0;31mKeyboardInterrupt\u001b[0m: "
          ]
        }
      ]
    },
    {
      "cell_type": "code",
      "metadata": {
        "id": "QlpdOPNJAFdH",
        "outputId": "e23a65f0-0b15-4520-de40-0f32c9b2931d",
        "colab": {
          "base_uri": "https://localhost:8080/"
        }
      },
      "source": [
        ""
      ],
      "execution_count": 6,
      "outputs": [
        {
          "output_type": "stream",
          "text": [
            "/usr/local/lib/python3.6/dist-packages/ipykernel_launcher.py:1: FutureWarning: arrays to stack must be passed as a \"sequence\" type such as list or tuple. Support for non-sequence iterables such as generators is deprecated as of NumPy 1.16 and will raise an error in the future.\n",
            "  \"\"\"Entry point for launching an IPython kernel.\n"
          ],
          "name": "stderr"
        }
      ]
    },
    {
      "cell_type": "code",
      "metadata": {
        "id": "YdDUK1vToJWo",
        "outputId": "94269d4d-07de-495e-924b-b00ba117412d",
        "colab": {
          "base_uri": "https://localhost:8080/"
        }
      },
      "source": [
        "git_pull()\n",
        "\n",
        "import importlib\n",
        "\n",
        "import PPG\n",
        "\n",
        "from PPG import FullTrainer\n",
        "\n",
        "importlib.reload(PPG.AttentionDefaults)\n",
        "importlib.reload(PPG)\n",
        "importlib.reload(PPG.UtilitiesDataXY)\n",
        "importlib.reload(PPG.Models)\n",
        "importlib.reload(PPG.NoHrPceLstmModel)\n",
        "importlib.reload(PPG.TrainerXY)\n",
        "importlib.reload(PPG.TrainerIS)\n",
        "importlib.reload(PPG.FullTrainer)\n"
      ],
      "execution_count": 12,
      "outputs": [
        {
          "output_type": "stream",
          "text": [
            "Warning: Permanently added the RSA host key for IP address '140.82.113.3' to the list of known hosts.\r\n",
            "Already up to date.\n"
          ],
          "name": "stdout"
        },
        {
          "output_type": "execute_result",
          "data": {
            "text/plain": [
              "<module 'PPG.FullTrainer' from '/tmp/HeartRateRegression/PPG/FullTrainer.py'>"
            ]
          },
          "metadata": {
            "tags": []
          },
          "execution_count": 12
        }
      ]
    },
    {
      "cell_type": "code",
      "metadata": {
        "id": "kL7zop0WGrHb"
      },
      "source": [
        "import matplotlib.pyplot as plt\n",
        "\n",
        "import pickle\n",
        "\n",
        "  # ensembler = SimpleEnsemble()\n",
        "\n",
        "def compute_ensemble(results):\n",
        "  ps = [v[\"predictions\"][1].reshape(-1).numpy() for v in results]\n",
        "  ys = [v[\"predictions\"][0].reshape(-1).numpy() for v in results]\n",
        "\n",
        "  for i in range(1, len(ys)-1):\n",
        "    assert np.all(ys[i] == ys[i-1])\n",
        "\n",
        "  s = ps[0]\n",
        "  for p in ps[1:]:\n",
        "    s = s + p\n",
        "\n",
        "  a = s/len(ps)\n",
        "  y = ys[0]\n",
        "\n",
        "  plt.plot(a)\n",
        "  plt.plot(y)\n",
        "\n",
        "  return np.mean(np.abs(a - y))\n",
        "\n",
        "\n",
        "fchoice = {'val_sub': 4,\n",
        "  'ts_sub': 0,\n",
        "  'batch_size': 64,\n",
        "  'weight_decay': 0,\n",
        "  'lr': 0.0001,\n",
        "  'lin_dropout': 0,\n",
        "  'lin_size': 16,\n",
        "  'nlin_layers': 2,\n",
        "  'feedforward_expansion': 1,\n",
        "  'nhead': 4,\n",
        "  'ndec_layers': 2,\n",
        "  'nenc_layers': 2,\n",
        "  'conv_dropout': 0,\n",
        "  'nconv_layers': 2,\n",
        "  'conv_filters': 128,\n",
        "  'nfeatures': 4\n",
        "}\n",
        "\n",
        "\n",
        "from PPG import UtilitiesDataXY\n",
        "from collections import defaultdict\n",
        "\n",
        "aresults = defaultdict(list)\n",
        "\n",
        "for i in range(7):\n",
        "  for ts_sub in [0,1,2,3,4,5,6,7,8,9,10,11,12,13,14]:\n",
        "    filename = f\"wesad_attention_output_ts_{ts_sub}_{i}_from_ecg_joint_single_shot.pkl\"\n",
        "    save_path = os.path.join(STORE_DIR, filename)\n",
        "    try:\n",
        "      with open(save_path , \"rb\") as f:\n",
        "        out = pickle.load(f)\n",
        "    except FileNotFoundError:\n",
        "      full_trainer = FullTrainer.JointValAttentionFullTrainer(dfs_train, args[\"device\"], nepoch=40)\n",
        "    else:\n",
        "      aresults[ts_sub].append(out)\n",
        "      print(out[\"args\"], out[\"metric\"])\n",
        "      continue\n",
        "\n",
        "    try:\n",
        "      fchoice[\"ts_sub\"] = ts_sub\n",
        "      out = full_trainer.train(**fchoice)\n",
        "      # full_trainer.dfs = dfs_wesad\n",
        "      # out = full_trainer.train(**fchoice)\n",
        "      print(out[\"args\"], out[\"metric\"])\n",
        "      aresults[ts_sub].append(out)\n",
        "      \n",
        "      \n",
        "      with open(save_path, \"wb\") as f:\n",
        "        pickle.dump(out, f)\n",
        "\n",
        "    except RuntimeError as e:\n",
        "      if isinstance(e, KeyboardInterrupt):\n",
        "        raise e\n",
        "      else:\n",
        "        print(\"####\")\n",
        "        print(f\"Failed: {fchoice}\")\n",
        "        print(\"###\")\n",
        "  print(f\"TS:{compute_ensemble(dresults)}\")\n",
        "  aresults[ts_sub].append(dresults)\n",
        "\n"
      ],
      "execution_count": null,
      "outputs": []
    }
  ]
}