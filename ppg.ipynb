{
 "metadata": {
  "language_info": {
   "codemirror_mode": {
    "name": "ipython",
    "version": 3
   },
   "file_extension": ".py",
   "mimetype": "text/x-python",
   "name": "python",
   "nbconvert_exporter": "python",
   "pygments_lexer": "ipython3",
   "version": 3
  },
  "orig_nbformat": 2
 },
 "nbformat": 4,
 "nbformat_minor": 2,
 "cells": [
  {
   "cell_type": "code",
   "execution_count": null,
   "metadata": {},
   "outputs": [],
   "source": [
    "import os\n",
    "import torch\n",
    "import pandas as pd\n",
    "import numpy as np\n",
    "import torch\n",
    "from torch import nn\n",
    "\n",
    "\n",
    "ssh_config = \"\"\"\n",
    "Host github.com\n",
    "  IdentityFile ~/.ssh/github.pem\n",
    "  User davipeag\n",
    "  StrictHostKeyChecking no\n",
    "\"\"\"\n",
    "\n",
    "if os.name == 'nt':\n",
    "  base_path = \"\"\n",
    "  REPO_DIR = \".\"\n",
    "  STORE_DIR =\".\" \n",
    "  print(\"Windows\")\n",
    "else:\n",
    "  print(\"Unix-like\")\n",
    "  REPO_DIR = \"/tmp/HeartRateRegression\"\n",
    "  from google.colab import drive\n",
    "  drive.mount('/content/drive')\n",
    "  GIT_PATH = \"/content/drive/My\\ Drive/deeplearning_project/github.pem\"\n",
    "  DATA_DIR = os.path.join(REPO_DIR, \"repo\")\n",
    "  STORE_DIR =\"/content/drive/My Drive/deeplearning_project/\" \n",
    "  !mkdir ~/.ssh\n",
    "  !cp -u {GIT_PATH} ~/.ssh/\n",
    "  !chmod u=rw,g=,o= ~/.ssh/github.pem\n",
    "  !echo \"{ssh_config}\" > ~/.ssh/config\n",
    "  !chmod u=rw,g=,o= ~/.ssh/config\n",
    "  ! (cd /tmp && git clone git@github.com:davipeag/HeartRateRegression.git)\n",
    "  ! (cd {REPO_DIR} && git pull )\n",
    "  import sys\n",
    "  sys.path.append(REPO_DIR)"
   ]
  }
 ]
}