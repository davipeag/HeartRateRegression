{
  "nbformat": 4,
  "nbformat_minor": 0,
  "metadata": {
    "orig_nbformat": 2,
    "colab": {
      "name": "ppg.ipynb",
      "provenance": []
    },
    "kernelspec": {
      "name": "python3",
      "display_name": "Python 3"
    },
    "accelerator": "GPU"
  },
  "cells": [
    {
      "cell_type": "code",
      "metadata": {
        "id": "Ksg4pPcCWcJR",
        "colab": {
          "base_uri": "https://localhost:8080/"
        },
        "outputId": "037adf92-0312-407b-ddc4-abc554eee7f1"
      },
      "source": [
        "!pip install wget\n",
        "import os\n",
        "import torch\n",
        "import pandas as pd\n",
        "import numpy as np\n",
        "import torch\n",
        "from torch import nn\n",
        "import matplotlib.pyplot as plt\n",
        "import pickle\n",
        "\n",
        "\n",
        "ssh_config = \"\"\"\n",
        "Host github.com\n",
        "  IdentityFile ~/.ssh/github.pem\n",
        "  User davipeag\n",
        "  StrictHostKeyChecking no\n",
        "\"\"\"\n",
        "\n",
        "if os.name == 'nt':\n",
        "  base_path = \"\"\n",
        "  REPO_DIR = \".\"\n",
        "  STORE_DIR =\".\" \n",
        "  print(\"Windows\")\n",
        "else:\n",
        "  print(\"Unix-like\")\n",
        "  REPO_DIR = \"/tmp/HeartRateRegression\"\n",
        "  from google.colab import drive\n",
        "  drive.mount('/content/drive')\n",
        "  GIT_PATH = \"/content/drive/My\\ Drive/deeplearning_project/github.pem\"\n",
        "  DATA_DIR = os.path.join(REPO_DIR, \"repo\")\n",
        "  STORE_DIR =\"/content/drive/My Drive/deeplearning_project/\" \n",
        "  !mkdir ~/.ssh\n",
        "  !cp -u {GIT_PATH} ~/.ssh/\n",
        "  !chmod u=rw,g=,o= ~/.ssh/github.pem\n",
        "  !echo \"{ssh_config}\" > ~/.ssh/config\n",
        "  !chmod u=rw,g=,o= ~/.ssh/config\n",
        "  ! (cd /tmp && git clone git@github.com:davipeag/HeartRateRegression.git)\n",
        "  ! (cd {REPO_DIR} && git pull )\n",
        "  import sys\n",
        "  sys.path.append(REPO_DIR)\n",
        "\n",
        "def git_pull():\n",
        "  ! (cd {REPO_DIR} && git pull )\n",
        "\n",
        "git_pull()"
      ],
      "execution_count": 9,
      "outputs": [
        {
          "output_type": "stream",
          "text": [
            "Requirement already satisfied: wget in /usr/local/lib/python3.6/dist-packages (3.2)\n",
            "Unix-like\n",
            "Drive already mounted at /content/drive; to attempt to forcibly remount, call drive.mount(\"/content/drive\", force_remount=True).\n",
            "mkdir: cannot create directory ‘/root/.ssh’: File exists\n",
            "fatal: destination path 'HeartRateRegression' already exists and is not an empty directory.\n",
            "remote: Enumerating objects: 12, done.\u001b[K\n",
            "remote: Counting objects: 100% (12/12), done.\u001b[K\n",
            "remote: Compressing objects: 100% (9/9), done.\u001b[K\n",
            "remote: Total 9 (delta 4), reused 0 (delta 0), pack-reused 0\u001b[K\n",
            "Unpacking objects: 100% (9/9), done.\n",
            "From github.com:davipeag/HeartRateRegression\n",
            "   1485ead..a31eac5  master     -> origin/master\n",
            "Updating 1485ead..a31eac5\n",
            "Fast-forward\n",
            " dalia_deepconvlstm.ipynb |  749 \u001b[32m++++++++++++++++++++++++++\u001b[m\u001b[31m---\u001b[m\n",
            " pamap_deepconvlstm.ipynb | 1184 \u001b[32m++++++++++++++++++++++++++++++++++++++++++++\u001b[m\u001b[31m--\u001b[m\n",
            " ppg_pce_lstm.ipynb       |  227 \u001b[32m+++++\u001b[m\u001b[31m----\u001b[m\n",
            " 3 files changed, 1934 insertions(+), 226 deletions(-)\n",
            "Already up to date.\n"
          ],
          "name": "stdout"
        }
      ]
    },
    {
      "cell_type": "code",
      "metadata": {
        "id": "JCFiZv0xM1pa",
        "colab": {
          "base_uri": "https://localhost:8080/"
        },
        "outputId": "c36d943a-e028-4147-e8e8-945fd9caaa20"
      },
      "source": [
        "import random\n",
        "import torch\n",
        "from torch import nn\n",
        "import numpy as np\n",
        "args = {\n",
        "    'epoch_num': 250,     # Number of epochs.\n",
        "    'lr': 1.0e-3,           # Learning rate.\n",
        "    'weight_decay': 10e-4, # L2 penalty.\n",
        "    'momentum': 0.9,      # Momentum.\n",
        "    'num_workers': 0,     # Number of workers on data loader.\n",
        "    'batch_size': 128,     # Mini-batch size. 128\n",
        "    'batch_test': 248,     # size of test batch\n",
        "    'window': 15,\n",
        "    'initial_window':5,\n",
        "    'clip_norm': 6.0,     # Upper limit on gradient L2 norm ###\n",
        "}\n",
        "if torch.cuda.is_available():\n",
        "    args['device'] = torch.device('cuda')\n",
        "else:\n",
        "    args['device'] = torch.device('cpu')\n",
        "\n",
        "print(args['device'])\n",
        "\n",
        "SEED = 1234\n",
        "def reset_seeds():\n",
        "  random.seed(SEED)\n",
        "  np.random.seed(SEED)\n",
        "  torch.manual_seed(SEED)\n",
        "  torch.backends.cudnn.deterministic = True\n",
        "  torch.backends.cudnn.benchmark = False\n",
        "  torch.cuda.manual_seed(SEED)\n",
        "  torch.backends.cudnn.deterministic = True\n",
        "  torch.backends.cudnn.benchmark = False\n",
        "\n",
        "reset_seeds()"
      ],
      "execution_count": 3,
      "outputs": [
        {
          "output_type": "stream",
          "text": [
            "cuda\n"
          ],
          "name": "stdout"
        }
      ]
    },
    {
      "cell_type": "code",
      "metadata": {
        "id": "Q7V97F8pWmvK",
        "colab": {
          "base_uri": "https://localhost:8080/"
        },
        "outputId": "b1be802e-34cb-41e9-bceb-8d431865c95f"
      },
      "source": [
        "from data_utils import (PpgDaliaExtractor, FormatPPGDalia)\n",
        "\n",
        "extractor = PpgDaliaExtractor(DATA_DIR)\n",
        "ppg_dalia_formatter = FormatPPGDalia()\n",
        "dfs_train = [ppg_dalia_formatter.transform(extractor.extract_subject(i)) for i in range(1,16)]"
      ],
      "execution_count": 4,
      "outputs": [
        {
          "output_type": "stream",
          "text": [
            "/usr/local/lib/python3.6/dist-packages/ipykernel_launcher.py:5: FutureWarning: arrays to stack must be passed as a \"sequence\" type such as list or tuple. Support for non-sequence iterables such as generators is deprecated as of NumPy 1.16 and will raise an error in the future.\n",
            "  \"\"\"\n"
          ],
          "name": "stderr"
        }
      ]
    },
    {
      "cell_type": "code",
      "metadata": {
        "id": "YdDUK1vToJWo",
        "colab": {
          "base_uri": "https://localhost:8080/"
        },
        "outputId": "3097148c-9b78-4c8d-bd09-5734ad522148"
      },
      "source": [
        "git_pull()\n",
        "\n",
        "import importlib\n",
        "\n",
        "import PPG\n",
        "\n",
        "from PPG import FullTrainer\n",
        "\n",
        "importlib.reload(PPG.AttentionDefaults)\n",
        "importlib.reload(PPG)\n",
        "importlib.reload(PPG.UtilitiesDataXY)\n",
        "importlib.reload(PPG.Models)\n",
        "importlib.reload(PPG.NoHrPceLstmModel)\n",
        "importlib.reload(PPG.TrainerXY)\n",
        "importlib.reload(PPG.TrainerIS)\n",
        "importlib.reload(PPG.FullTrainer)\n",
        "\n",
        "git_pull()\n",
        "\n",
        "import importlib\n",
        "\n",
        "import PPG\n",
        "import preprocessing_utils\n",
        "from PPG import FullTrainer\n",
        "import RegressionHR\n",
        "\n",
        "from RegressionHR import FullTrainer\n",
        "from RegressionHR import PceLstmDefaults\n",
        "from RegressionHR import PceLstmModel\n",
        "from RegressionHR import TrainerJoint\n",
        "from RegressionHR import  UtilitiesData\n",
        "import Models\n",
        "from  Models.BaseModels import ConstantHiddenSizeHalvingFullyConvolutionalEncoder1D\n",
        "from Models import TimeSnippetModels\n",
        "\n",
        "import PreprocessingHelpers\n",
        "\n",
        "import Constants\n",
        "from Constants import DatasetMapping\n",
        "\n",
        "\n",
        "import Trainer\n",
        "from  Trainer import BatchTrainers\n",
        "from Trainer import BatchComputers\n",
        "from Trainer import Interfaces\n",
        "\n",
        "import CustomTrainers\n",
        "from CustomTrainers import  DeepConvLstmFullTrainer\n",
        "from CustomTrainers import SpecificTrainers, FullTrainers\n",
        "\n",
        "import PPG\n",
        "\n",
        "from PreprocessingHelpers import TransformerGetters\n",
        "\n",
        "importlib.reload(PreprocessingHelpers)\n",
        "importlib.reload(PreprocessingHelpers.TransformerGetters)\n",
        "importlib.reload(PreprocessingHelpers)\n",
        "\n",
        "importlib.reload(PPG)\n",
        "importlib.reload(PPG.NoHrPceLstmModel)\n",
        "importlib.reload(PPG.TrainerXY)\n",
        "importlib.reload(PPG.TrainerIS)\n",
        "importlib.reload(PPG.FullTrainer)\n",
        "importlib.reload(PceLstmDefaults)\n",
        "\n",
        "\n",
        "\n",
        "importlib.reload(CustomTrainers)\n",
        "importlib.reload(CustomTrainers.FullTrainers)\n",
        "importlib.reload(CustomTrainers.SpecificTrainers)\n",
        "\n",
        "import PreprocessingHelpers.TransformerGetters\n",
        "                            \n",
        "\n",
        "\n",
        "importlib.reload(Constants.DatasetMapping)\n",
        "\n",
        "\n",
        "# importlib.reload(PPG.AttentionDefaults)\n",
        "\n",
        "# importlib.reload(PPG.UtilitiesDataXY)\n",
        "importlib.reload(PPG.Models)\n",
        "importlib.reload(Models.BaseModels)\n",
        "importlib.reload(Models.TimeSnippetModels)\n",
        "importlib.reload(preprocessing_utils)\n",
        "importlib.reload(RegressionHR)\n",
        "importlib.reload(RegressionHR.FullTrainer)\n",
        "importlib.reload(RegressionHR.PceLstmDefaults)\n",
        "importlib.reload(PPG.UtilitiesDataXY)\n",
        "importlib.reload(preprocessing_utils)\n",
        "importlib.reload(RegressionHR.TrainerJoint)\n",
        "importlib.reload(RegressionHR.UtilitiesData)\n",
        "importlib.reload(RegressionHR.PceLstmModel)\n",
        "importlib.reload(preprocessing_utils)\n",
        "\n",
        "importlib.reload(Trainer)\n",
        "importlib.reload(Trainer.BatchTrainers)\n",
        "importlib.reload(Trainer.BatchComputers)\n",
        "importlib.reload(Trainer.ToolBox)\n",
        "importlib.reload(Trainer.Interfaces )\n",
        "# import imp\n",
        "# for module in sys.modules.values():\n",
        "#     importlib.reload(module)\n"
      ],
      "execution_count": 10,
      "outputs": [
        {
          "output_type": "stream",
          "text": [
            "Already up to date.\n",
            "Already up to date.\n"
          ],
          "name": "stdout"
        },
        {
          "output_type": "execute_result",
          "data": {
            "text/plain": [
              "<module 'Trainer.Interfaces' from '/tmp/HeartRateRegression/Trainer/Interfaces.py'>"
            ]
          },
          "metadata": {
            "tags": []
          },
          "execution_count": 10
        }
      ]
    },
    {
      "cell_type": "code",
      "metadata": {
        "id": "dGYuadHNu5K8"
      },
      "source": [
        "def compute_ensemble_named(results, model_name=\"PceLstm\"):\n",
        "  \n",
        "  # results = [r[model_name] for r in results]\n",
        "\n",
        "  ys = [v[\"labels\"].reshape(-1) for v in results]\n",
        "  min_len_y = min([len(y) for y in ys])\n",
        "  ys = [y[:min_len_y] for y in ys]\n",
        "  for i in range(1, len(ys)-1):\n",
        "    # assert np.all(ys[i] == ys[i-1])\n",
        "    assert np.all(np.abs(ys[i] - ys[i-1])<1)\n",
        "  ps = np.stack([v[\"predictions\"].reshape(-1)[:min_len_y] for v in results])\n",
        "\n",
        "  s = ps[0]\n",
        "  for p in ps[1:]:\n",
        "    s = s + p\n",
        "\n",
        "  a = s/len(ps)\n",
        "  y = ys[0]\n",
        "\n",
        "  plt.figure()\n",
        "  plt.plot(a)\n",
        "  plt.plot(y)\n",
        "  plt.show()\n",
        "\n",
        "  return np.mean(np.abs(a - y)), np.mean(np.abs(ps - y))\n",
        "\n",
        "fchoice = {\n",
        "    'is_h_size': 64,\n",
        "    'ts_per_is': 12,\n",
        "    'period_s': 8,\n",
        "    'step_s': 2,\n",
        "    'ts_per_window': 50,\n",
        "    'ts_sub': 0,\n",
        "    'batch_size': 64,\n",
        "    'weight_decay': 1e-05,\n",
        "    'lr': 0.005,\n",
        "    'nattrs': 7,\n",
        "    'dropout_rate':0.15,\n",
        "    'lstm_input': 128,\n",
        "    'lstm_size': 64,\n",
        "    'ts_h_size': 16\n",
        "}\n",
        "import CustomTrainers\n",
        "from CustomTrainers import SingleNoHrPpgPceLstmFullTrainerSeparateBVP\n",
        "\n",
        "from PPG import UtilitiesDataXY\n",
        "from collections import defaultdict\n",
        "\n",
        "model_name = \"NoHrPpgPceLstm\"\n",
        "nepoch = 50\n",
        "aresults = defaultdict(dict)\n",
        "for val_sub in range(7):\n",
        "  for ts_sub in range(15):\n",
        "    fchoice['ts_sub'] = ts_sub\n",
        "    full_trainer = SingleNoHrPpgPceLstmFullTrainerSeparateBVP(dfs_train, args[\"device\"], nepoch, \"dalia\",\"NoHrPpgPceLstm\")\n",
        "    filename = f\"dalia_ts_{ts_sub}_{val_sub}_from_ecg_period2_new_parameters_nepoch_{nepoch}_separate_bvp.pkl\"\n",
        "    save_path = os.path.join(STORE_DIR, filename)\n",
        "    try:\n",
        "      with open(save_path , \"rb\") as f:\n",
        "        out = pickle.load(f)\n",
        "    except FileNotFoundError:\n",
        "      out = full_trainer.train(**fchoice)\n",
        "      with open(save_path, \"wb\") as f:\n",
        "        pickle.dump(out, f)    \n",
        "    print(out[\"args\"], out['metric'])\n",
        "    aresults[ts_sub][val_sub] = out\n",
        "    print(f\"{ts_sub}-TS:{compute_ensemble_named(list(aresults[ts_sub].values()))}\")"
      ],
      "execution_count": 5,
      "outputs": []
    },
    {
      "cell_type": "code",
      "metadata": {
        "colab": {
          "base_uri": "https://localhost:8080/",
          "height": 574
        },
        "id": "rBzugix7u5K8",
        "outputId": "53d410f8-da63-4b40-8939-3223fac36536"
      },
      "source": [
        "def compute_ensemble_named(results, model_name=\"PceLstm\"):\n",
        "  \n",
        "  # results = [r[model_name] for r in results]\n",
        "\n",
        "  ys = [v[\"labels\"].reshape(-1) for v in results]\n",
        "  min_len_y = min([len(y) for y in ys])\n",
        "  ys = [y[:min_len_y] for y in ys]\n",
        "  for i in range(1, len(ys)-1):\n",
        "    # assert np.all(ys[i] == ys[i-1])\n",
        "    assert np.all(np.abs(ys[i] - ys[i-1])<1)\n",
        "  ps = np.stack([v[\"predictions\"].reshape(-1)[:min_len_y] for v in results])\n",
        "\n",
        "  s = ps[0]\n",
        "  for p in ps[1:]:\n",
        "    s = s + p\n",
        "\n",
        "  a = s/len(ps)\n",
        "  y = ys[0]\n",
        "\n",
        "  plt.figure()\n",
        "  plt.plot(a)\n",
        "  plt.plot(y)\n",
        "  plt.show()\n",
        "\n",
        "  return np.mean(np.abs(a - y)), np.mean(np.abs(ps - y))\n",
        "\n",
        "fchoice = {\n",
        "    'is_h_size': 64,\n",
        "    'ts_per_is': 12,\n",
        "    'period_s': 8,\n",
        "    'step_s': 2,\n",
        "    'ts_per_window': 50,\n",
        "    'ts_sub': 0,\n",
        "    'batch_size': 64,\n",
        "    'weight_decay': 1e-05,\n",
        "    'lr': 0.005,\n",
        "    'nattrs': 7,\n",
        "    'dropout_rate':0.15,\n",
        "    'lstm_input': 128,\n",
        "    'lstm_size': 64,\n",
        "    'ts_h_size': 16\n",
        "}\n",
        "import CustomTrainers\n",
        "from CustomTrainers import SingleNoHrPpgPceLstmFullTrainer\n",
        "\n",
        "from PPG import UtilitiesDataXY\n",
        "from collections import defaultdict\n",
        "\n",
        "model_name = \"NoHrPpgPceLstm\"\n",
        "nepoch = 50\n",
        "aresults = defaultdict(dict)\n",
        "for val_sub in range(7):\n",
        "  for ts_sub in range(15):\n",
        "    fchoice['ts_sub'] = ts_sub\n",
        "    full_trainer = SingleNoHrPpgPceLstmFullTrainer(dfs_train, args[\"device\"], nepoch, \"dalia\",\"NoHrPpgPceLstm\")\n",
        "    filename = f\"dalia_ts_{ts_sub}_{val_sub}_from_ecg_period2_new_parameters_nepoch_{nepoch}_.pkl\"\n",
        "    save_path = os.path.join(STORE_DIR, filename)\n",
        "    try:\n",
        "      with open(save_path , \"rb\") as f:\n",
        "        out = pickle.load(f)\n",
        "    except FileNotFoundError:\n",
        "      out = full_trainer.train(**fchoice)\n",
        "      with open(save_path, \"wb\") as f:\n",
        "        pickle.dump(out, f)    \n",
        "    print(out[\"args\"], out['metric'])\n",
        "    aresults[ts_sub][val_sub] = out\n",
        "    print(f\"{ts_sub}-TS:{compute_ensemble_named(list(aresults[ts_sub].values()))}\")"
      ],
      "execution_count": null,
      "outputs": [
        {
          "output_type": "stream",
          "text": [
            "{'frequency_hz': 32, 'net_args': {'is_h_size': 64, 'nattrs': 5, 'dropout_rate': 0.15, 'lstm_input': 128, 'lstm_size': 64, 'ts_h_size': 16, 'ts_per_is': 12, 'sample_per_ts': 256}, 'step_s': 2, 'period_s': 8, 'ts_per_is': 12, 'ts_per_window': 50, 'ts_sub': 0, 'batch_size': 64, 'weight_decay': 1e-05, 'lr': 0.005, 'sample_per_ts': 256, 'is_h_size': 64, 'nattrs': 5, 'dropout_rate': 0.15, 'lstm_input': 128, 'lstm_size': 64, 'ts_h_size': 16} 6.25635\n"
          ],
          "name": "stdout"
        },
        {
          "output_type": "display_data",
          "data": {
            "image/png": "[encoded data removed]",
            "text/plain": [
              "<Figure size 432x288 with 1 Axes>"
            ]
          },
          "metadata": {
            "tags": [],
            "needs_background": "light"
          }
        },
        {
          "output_type": "stream",
          "text": [
            "0-TS:(6.25635, 6.25635)\n",
            "best val epoch: 1\n",
            "[1/50]: loss_train: [16.485449] loss_val [15.322237] loss_ts [10.359429]\n",
            "best val epoch: 2\n",
            "[2/50]: loss_train: [13.595316] loss_val [11.953993] loss_ts [7.6411757]\n",
            "best val epoch: 3\n",
            "[3/50]: loss_train: [12.848765] loss_val [11.543063] loss_ts [6.4239426]\n",
            "best val epoch: 5\n",
            "[5/50]: loss_train: [9.04269] loss_val [8.250457] loss_ts [5.459274]\n",
            "best val epoch: 7\n",
            "[7/50]: loss_train: [7.69371] loss_val [7.0631127] loss_ts [4.7312975]\n",
            "best val epoch: 8\n",
            "[8/50]: loss_train: [6.6419024] loss_val [6.549048] loss_ts [4.3260517]\n",
            "best val epoch: 9\n",
            "[9/50]: loss_train: [6.1675067] loss_val [6.086276] loss_ts [4.475572]\n",
            "best val epoch: 13\n"
          ],
          "name": "stdout"
        }
      ]
    },
    {
      "cell_type": "code",
      "metadata": {
        "id": "kL7zop0WGrHb"
      },
      "source": [
        "import matplotlib.pyplot as plt\n",
        "import pickle\n",
        "# fchoice = {'val_sub': 4,\n",
        "#   'ts_sub': 0,\n",
        "#   'batch_size': 64,\n",
        "#   'weight_decay': 0,\n",
        "#   'lr': 0.001,\n",
        "#   'nattrs': 5,\n",
        "#   'bvp_count': 16,\n",
        "#   'dropout_rate': 0.25,\n",
        "#   'lstm_input': 128,\n",
        "#   'lstm_size': 64,\n",
        "#   'ts_h_size': 64\n",
        "#   }\n",
        "def compute_ensemble(results):\n",
        "  ps = np.stack([v[\"predictions\"][1].reshape(-1).numpy() for v in results])\n",
        "  ys = [v[\"predictions\"][0].reshape(-1).numpy() for v in results]\n",
        "\n",
        "  for i in range(1, len(ys)-1):\n",
        "    assert np.all(ys[i] == ys[i-1])\n",
        "\n",
        "  s = ps[0]\n",
        "  for p in ps[1:]:\n",
        "    s = s + p\n",
        "\n",
        "  a = s/len(ps)\n",
        "  y = ys[0]\n",
        "\n",
        "  plt.plot(a)\n",
        "  plt.plot(y)\n",
        "\n",
        "  return np.mean(np.abs(a - y)), np.mean(np.abs(ps - y))\n",
        "\n",
        "\n",
        "fchoice = {'val_sub': 4,\n",
        "  'ts_sub': 0,\n",
        "  'batch_size': 64,\n",
        "  'weight_decay': 0.0001,\n",
        "  'lr': 0.001,\n",
        "  'nattrs': 5,\n",
        "  'bvp_count': 12,\n",
        "  'dropout_rate': 0,\n",
        "  'lstm_input': 128,\n",
        "  'lstm_size': 32,\n",
        "  'ts_h_size': 32\n",
        "  }\n",
        "\n",
        "\n",
        "from PPG import UtilitiesDataXY\n",
        "from collections import defaultdict\n",
        "\n",
        "aresults = defaultdict(list)\n",
        "for i in range(7):\n",
        "  for ts_sub in [0,1,2,3, 4,5,6,7,8,9,10,11,12,13,14]:\n",
        "    filename = f\"dalia_ts_{ts_sub}_{i}_from_ecg_period2_.pkl\"\n",
        "    save_path = os.path.join(STORE_DIR, filename)\n",
        "    try:\n",
        "      with open(save_path , \"rb\") as f:\n",
        "        out = pickle.load(f)\n",
        "    except FileNotFoundError:\n",
        "      full_trainer = FullTrainer.JointValNoHrPceLstmFullTrainer(dfs_train, args[\"device\"])\n",
        "      try:\n",
        "        fchoice[\"ts_sub\"] = ts_sub\n",
        "        out = full_trainer.train(**fchoice)\n",
        "        \n",
        "        with open(save_path, \"wb\") as f:\n",
        "          pickle.dump(out, f)\n",
        "\n",
        "      except RuntimeError as e:\n",
        "        if isinstance(e, KeyboardInterrupt):\n",
        "          raise e\n",
        "        else:\n",
        "          print(\"####\")\n",
        "          print(f\"Failed: {choice}\")\n",
        "          print(\"###\")\n",
        "    \n",
        "    print(out[\"args\"], out[\"metric\"])\n",
        "    aresults[ts_sub].append(out)\n",
        "    print(f\"{ts_sub}-TS:{compute_ensemble(aresults[ts_sub])}\")\n",
        "    \n",
        "\n"
      ],
      "execution_count": null,
      "outputs": []
    },
    {
      "cell_type": "code",
      "metadata": {
        "id": "nC7RYiJL3nh-"
      },
      "source": [],
      "execution_count": null,
      "outputs": []
    },
    {
      "cell_type": "code",
      "metadata": {
        "id": "hjYv8BlUKYnM"
      },
      "source": [
        "\n",
        "def compute_ensemble(results):\n",
        "  ps = [v[\"predictions\"][1].reshape(-1).numpy() for v in results]\n",
        "  ys = [v[\"predictions\"][0].reshape(-1).numpy() for v in results]\n",
        "\n",
        "  for i in range(1, len(ys)-1):\n",
        "    assert np.all(ys[i] == ys[i-1])\n",
        "\n",
        "  s = ps[0]\n",
        "  for p in ps[1:]:\n",
        "    s = s + p\n",
        "\n",
        "  a = s/len(ps)\n",
        "  y = ys[0]\n",
        "\n",
        "  plt.plot(a)\n",
        "  plt.plot(y)\n",
        "\n",
        "  np.mean(np.abs(a - y))\n",
        "\n",
        "compute_ensemble(dresults)\n",
        "\n",
        "# import matplotlib.pyplot as plt\n",
        "\n",
        "\n",
        "# p = p.reshape(-1)\n",
        "\n",
        "# plt.plot(y)\n",
        "# plt.plot(p)\n"
      ],
      "execution_count": null,
      "outputs": []
    },
    {
      "cell_type": "code",
      "metadata": {
        "id": "ZdPECC3jYpjp"
      },
      "source": [
        "import random \n",
        "options = {\n",
        "  \"ts_h_size\": [64, 128],\n",
        "  \"lstm_size\": [64, 64, 128],\n",
        "  \"lstm_input\": [64, 128, 256],\n",
        "  \"dropout_rate\": [0.25],\n",
        "  \"bvp_count\": [8,16],\n",
        "  \"nattrs\": [5],\n",
        "  'lr': [0.001],\n",
        "  'weight_decay': [0, 0.0001],\n",
        "  'batch_size': [64, 128, 256],\n",
        "  'ts_sub': [0],\n",
        "  'val_sub': [4]\n",
        " }\n",
        "\n",
        "def choose(options):\n",
        "  choice = dict()\n",
        "  for k,v in options.items():\n",
        "    choice[k] = random.choice(v)\n",
        "  return choice\n"
      ],
      "execution_count": null,
      "outputs": []
    },
    {
      "cell_type": "code",
      "metadata": {
        "id": "YYFUSi1-4nzj"
      },
      "source": [],
      "execution_count": null,
      "outputs": []
    },
    {
      "cell_type": "code",
      "metadata": {
        "id": "5YFiismva8BL"
      },
      "source": [
        "results = list()\n",
        "from PPG import UtilitiesDataXY\n",
        "while True:\n",
        "  full_trainer = FullTrainer.NoHrPceLstmFullTrainer(dfs_train, args[\"device\"])\n",
        "  choice = choose(options)\n",
        "  try:\n",
        "    out = full_trainer.train(**choice)\n",
        "    print(out[\"args\"], out[\"metric\"])\n",
        "    results.append([out[\"args\"], out[\"metric\"]])\n",
        "  except RuntimeError as e:\n",
        "    if isinstance(e, KeyboardInterrupt):\n",
        "      raise e\n",
        "    else:\n",
        "      print(\"####\")\n",
        "      print(f\"Failed: {choice}\")\n",
        "      print(\"###\")"
      ],
      "execution_count": null,
      "outputs": []
    },
    {
      "cell_type": "code",
      "metadata": {
        "id": "ZNTrC3_M2D-Z"
      },
      "source": [
        "results"
      ],
      "execution_count": null,
      "outputs": []
    },
    {
      "cell_type": "code",
      "metadata": {
        "id": "chhDawFV_14T"
      },
      "source": [
        "fchoice = {'val_sub': 4,\n",
        "  'ts_sub': 0,\n",
        "  'batch_size': 64,\n",
        "  'weight_decay': 0,\n",
        "  'lr': 0.001,\n",
        "  'nattrs': 5,\n",
        "  'bvp_count': 16,\n",
        "  'dropout_rate': 0.25,\n",
        "  'lstm_input': 128,\n",
        "  'lstm_size': 64,\n",
        "  'ts_h_size': 64}\n",
        "\n",
        "\n",
        "dresults = list()\n",
        "from PPG import UtilitiesDataXY\n",
        "ts_sub = 3\n",
        "for val_sub in [i for i in range(15) if i != ts_sub]:\n",
        "  full_trainer = FullTrainer.NoHrPceLstmFullTrainer(dfs_train, args[\"device\"])\n",
        "  try:\n",
        "    fchoice[\"ts_sub\"] = ts_sub\n",
        "    fchoice[\"val_sub\"] = val_sub\n",
        "    out = full_trainer.train(**fchoice)\n",
        "    print(out[\"args\"], out[\"metric\"])\n",
        "    dresults.append([out])\n",
        "  except RuntimeError as e:\n",
        "    if isinstance(e, KeyboardInterrupt):\n",
        "      raise e\n",
        "    else:\n",
        "      print(\"####\")\n",
        "      print(f\"Failed: {choice}\")\n",
        "      print(\"###\")"
      ],
      "execution_count": null,
      "outputs": []
    },
    {
      "cell_type": "code",
      "metadata": {
        "id": "zxjMx66OD9T9"
      },
      "source": [
        "y = "
      ],
      "execution_count": null,
      "outputs": []
    },
    {
      "cell_type": "code",
      "metadata": {
        "id": "MFOG4ar9WYpt"
      },
      "source": [
        "full_trainer = FullTrainer.AttentionFullTrainer(dfs_train, args[\"device\"], 0, 1)\n",
        "\n",
        "full_trainer.train()"
      ],
      "execution_count": null,
      "outputs": []
    },
    {
      "cell_type": "code",
      "metadata": {
        "id": "lYVLTnMGXYGp"
      },
      "source": [
        "from PPG import UtilitiesDataXY \n",
        "\n",
        "\n",
        "transformers = PPG.AttentionDefaults.get_preprocessing_transformer()\n",
        "make_loaders = UtilitiesDataXY.DataLoaderFactory(transformers, dfs_train).make_loaders\n",
        "\n",
        "loader_tr, loader_val, loader_ts = make_loaders(ts_sub=0, val_sub=1)"
      ],
      "execution_count": null,
      "outputs": []
    },
    {
      "cell_type": "code",
      "metadata": {
        "id": "Q7Vr-YDyoGfH"
      },
      "source": [
        "from PPG.Models import SnippetConvolutionalTransformer\n",
        "\n",
        "net = SnippetConvolutionalTransformer().to(args[\"device\"])\n",
        "\n",
        "# x,y = next(iter(loader_tr))\n",
        "\n",
        "# p = net(x)\n",
        "\n",
        "criterion = nn.MSELoss().to(args[\"device\"])# nn.L1Loss().to(args[\"device\"]) #nn.CrossEntropyLoss().to(args[\"device\"])\n",
        "optimizer = torch.optim.Adam(net.parameters(), lr=args[\"lr\"],\n",
        "                             weight_decay=args[\"weight_decay\"])\n"
      ],
      "execution_count": null,
      "outputs": []
    },
    {
      "cell_type": "code",
      "metadata": {
        "id": "c-ktvTpTaOcy"
      },
      "source": [
        "from PPG.TrainerXY import (EpochTrainerXY, MetricsComputerXY, TrainHelperXY)\n",
        "from preprocessing_utils import ZTransformer2\n",
        "\n",
        "epoch_trainer = EpochTrainerXY(net, optimizer, criterion, args[\"device\"])\n",
        "ztransformer = ZTransformer2(['heart_rate', 'wrist-ACC-0', 'wrist-ACC-1', 'wrist-ACC-2',\n",
        "              'wrist-BVP-0', 'wrist-EDA-0', 'wrist-TEMP-0', 'chest-ACC-0',\n",
        "              'chest-ACC-1', 'chest-ACC-2', 'chest-Resp-0'])\n",
        "metrics_comuter = MetricsComputerXY(ztransformer)\n",
        "\n",
        "train_helper = TrainHelperXY(epoch_trainer, loader_tr, loader_val, loader_ts, metrics_comuter.mae)"
      ],
      "execution_count": null,
      "outputs": []
    },
    {
      "cell_type": "code",
      "metadata": {
        "id": "0lyVMlfzkaFA"
      },
      "source": [
        "train_helper.train(30)"
      ],
      "execution_count": null,
      "outputs": []
    },
    {
      "cell_type": "code",
      "metadata": {
        "id": "ZG0tSXLWPuCQ"
      },
      "source": [],
      "execution_count": null,
      "outputs": []
    }
  ]
}