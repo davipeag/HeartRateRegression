{
  "nbformat": 4,
  "nbformat_minor": 0,
  "metadata": {
    "orig_nbformat": 2,
    "colab": {
      "name": "pamap2dalia_pcelstm.ipynb",
      "provenance": []
    },
    "kernelspec": {
      "name": "python3",
      "display_name": "Python 3"
    },
    "accelerator": "GPU"
  },
  "cells": [
    {
      "cell_type": "code",
      "metadata": {
        "colab": {
          "base_uri": "https://localhost:8080/"
        },
        "id": "bFeV0gY5n8La",
        "outputId": "087edeed-23d8-4585-db0a-5cbbb33420e3"
      },
      "source": [
        "!pip install wget\n",
        "import os\n",
        "import torch\n",
        "import pandas as pd\n",
        "import numpy as np\n",
        "import torch\n",
        "from torch import nn\n",
        "\n",
        "\n",
        "ssh_config = \"\"\"\n",
        "Host github.com\n",
        "  IdentityFile ~/.ssh/github.pem\n",
        "  User davipeag\n",
        "  StrictHostKeyChecking no\n",
        "\"\"\"\n",
        "\n",
        "if os.name == 'nt':\n",
        "  base_path = \"\"\n",
        "  REPO_DIR = \".\"\n",
        "  STORE_DIR =\".\" \n",
        "  print(\"Windows\")\n",
        "else:\n",
        "  print(\"Unix-like\")\n",
        "  REPO_DIR = \"/tmp/HeartRateRegression\"\n",
        "  from google.colab import drive\n",
        "  drive.mount('/content/drive')\n",
        "  GIT_PATH = \"/content/drive/My\\ Drive/deeplearning_project/github.pem\"\n",
        "  DATA_DIR = os.path.join(REPO_DIR, \"repo\")\n",
        "  STORE_DIR =\"/content/drive/My Drive/deeplearning_project/\" \n",
        "  !mkdir ~/.ssh\n",
        "  !cp -u {GIT_PATH} ~/.ssh/\n",
        "  !chmod u=rw,g=,o= ~/.ssh/github.pem\n",
        "  !echo \"{ssh_config}\" > ~/.ssh/config\n",
        "  !chmod u=rw,g=,o= ~/.ssh/config\n",
        "  ! (cd /tmp && git clone git@github.com:davipeag/HeartRateRegression.git)\n",
        "  ! (cd {REPO_DIR} && git pull )\n",
        "  import sys\n",
        "  sys.path.append(REPO_DIR)\n",
        "\n",
        "def git_pull():\n",
        "  ! (cd {REPO_DIR} && git pull )\n",
        "\n",
        "git_pull()\n"
      ],
      "execution_count": 1,
      "outputs": [
        {
          "output_type": "stream",
          "text": [
            "Requirement already satisfied: wget in /usr/local/lib/python3.6/dist-packages (3.2)\n",
            "Unix-like\n",
            "Drive already mounted at /content/drive; to attempt to forcibly remount, call drive.mount(\"/content/drive\", force_remount=True).\n",
            "mkdir: cannot create directory ‘/root/.ssh’: File exists\n",
            "fatal: destination path 'HeartRateRegression' already exists and is not an empty directory.\n",
            "Already up to date.\n",
            "Already up to date.\n"
          ],
          "name": "stdout"
        }
      ]
    },
    {
      "cell_type": "code",
      "metadata": {
        "colab": {
          "base_uri": "https://localhost:8080/"
        },
        "id": "WEbepTtKn8Lw",
        "outputId": "793ea1c0-4c3e-4905-99d6-820456d1a700"
      },
      "source": [
        "import random\n",
        "import torch\n",
        "from torch import nn\n",
        "import numpy as np\n",
        "args = {\n",
        "    'epoch_num': 250,     # Number of epochs.\n",
        "    'lr': 1.0e-3,           # Learning rate.\n",
        "    'weight_decay': 10e-4, # L2 penalty.\n",
        "    'momentum': 0.9,      # Momentum.\n",
        "    'num_workers': 0,     # Number of workers on data loader.\n",
        "    'batch_size': 128,     # Mini-batch size. 128\n",
        "    'batch_test': 248,     # size of test batch\n",
        "    'window': 15,\n",
        "    'initial_window':5,\n",
        "    'clip_norm': 6.0,     # Upper limit on gradient L2 norm ###\n",
        "}\n",
        "if torch.cuda.is_available():\n",
        "    args['device'] = torch.device('cuda')\n",
        "else:\n",
        "    args['device'] = torch.device('cpu')\n",
        "\n",
        "print(args['device'])\n",
        "\n",
        "SEED = 1234\n",
        "def reset_seeds(seed=SEED):\n",
        "  random.seed(seed)\n",
        "  np.random.seed(seed)\n",
        "  torch.manual_seed(seed)\n",
        "  torch.backends.cudnn.deterministic = True\n",
        "  torch.backends.cudnn.benchmark = False\n",
        "  torch.cuda.manual_seed(seed)\n",
        "  torch.backends.cudnn.deterministic = True\n",
        "  torch.backends.cudnn.benchmark = False\n",
        "\n",
        "reset_seeds(SEED)"
      ],
      "execution_count": 2,
      "outputs": [
        {
          "output_type": "stream",
          "text": [
            "cuda\n"
          ],
          "name": "stdout"
        }
      ]
    },
    {
      "cell_type": "code",
      "metadata": {
        "colab": {
          "base_uri": "https://localhost:8080/"
        },
        "id": "c3ksv2MPn8Ly",
        "outputId": "47c2bd8d-8246-426b-bc56-d77332e78a0b"
      },
      "source": [
        "from data_utils import (PpgDaliaExtractor, FormatPPGDalia)\n",
        "\n",
        "extractor = PpgDaliaExtractor(DATA_DIR)\n",
        "ppg_dalia_formatter = FormatPPGDalia()\n",
        "dfs_train_dalia = [ppg_dalia_formatter.transform(extractor.extract_subject(i)) for i in range(1,16)]\n",
        "[len(df)//32 for df in dfs_train_dalia]"
      ],
      "execution_count": 3,
      "outputs": [
        {
          "output_type": "stream",
          "text": [
            "/usr/local/lib/python3.6/dist-packages/ipykernel_launcher.py:5: FutureWarning: arrays to stack must be passed as a \"sequence\" type such as list or tuple. Support for non-sequence iterables such as generators is deprecated as of NumPy 1.16 and will raise an error in the future.\n",
            "  \"\"\"\n"
          ],
          "name": "stderr"
        },
        {
          "output_type": "execute_result",
          "data": {
            "text/plain": [
              "[9206,\n",
              " 8199,\n",
              " 8735,\n",
              " 9144,\n",
              " 9299,\n",
              " 5244,\n",
              " 9337,\n",
              " 8074,\n",
              " 8554,\n",
              " 10642,\n",
              " 9042,\n",
              " 7908,\n",
              " 9130,\n",
              " 8952,\n",
              " 7933]"
            ]
          },
          "metadata": {
            "tags": []
          },
          "execution_count": 3
        }
      ]
    },
    {
      "cell_type": "code",
      "metadata": {
        "colab": {
          "base_uri": "https://localhost:8080/"
        },
        "id": "4O1eIe8On8Ly",
        "outputId": "f7c47307-63d0-4d81-fca2-ad67fa9b8c95"
      },
      "source": [
        "from data_utils import (Pamap2Handler, FormatPamap)\n",
        "\n",
        "SUBJECTS = list(range(1,9))\n",
        "\n",
        "handler = Pamap2Handler(DATA_DIR)\n",
        "formatter = FormatPamap()\n",
        "dfs_train_pamap2 = [formatter.transform(handler.get_protocol_subject(i)) for i in SUBJECTS]\n",
        "[len(df)//200 for df in dfs_train_pamap2]"
      ],
      "execution_count": 4,
      "outputs": [
        {
          "output_type": "execute_result",
          "data": {
            "text/plain": [
              "[1882, 2235, 1264, 1647, 1873, 1809, 1567, 2040]"
            ]
          },
          "metadata": {
            "tags": []
          },
          "execution_count": 4
        }
      ]
    },
    {
      "cell_type": "code",
      "metadata": {
        "colab": {
          "base_uri": "https://localhost:8080/"
        },
        "id": "I0YeDWNdn8Lz",
        "outputId": "5a4077e1-562a-4960-c7a7-8e852fb3b8ba"
      },
      "source": [
        "git_pull()\n",
        "\n",
        "import importlib\n",
        "\n",
        "import PPG\n",
        "import preprocessing_utils\n",
        "from PPG import FullTrainer\n",
        "import RegressionHR\n",
        "\n",
        "from RegressionHR import FullTrainer\n",
        "from RegressionHR import PceLstmDefaults\n",
        "from RegressionHR import PceLstmModel\n",
        "from RegressionHR import TrainerJoint\n",
        "from RegressionHR import  UtilitiesData\n",
        "from RegressionHR import FullTrainer2\n",
        "\n",
        "import Trainer\n",
        "from  Trainer import BatchTrainers\n",
        "from Trainer import BatchComputers\n",
        "from Trainer import Interfaces\n",
        "\n",
        "\n",
        "importlib.reload(PPG.AttentionDefaults)\n",
        "importlib.reload(PPG)\n",
        "importlib.reload(PPG.UtilitiesDataXY)\n",
        "importlib.reload(PPG.Models)\n",
        "importlib.reload(PPG.NoHrPceLstmModel)\n",
        "importlib.reload(PPG.TrainerXY)\n",
        "importlib.reload(PPG.TrainerIS)\n",
        "importlib.reload(PPG.FullTrainer)\n",
        "importlib.reload(PceLstmDefaults)\n",
        "importlib.reload(preprocessing_utils)\n",
        "importlib.reload(RegressionHR)\n",
        "importlib.reload(RegressionHR.FullTrainer)\n",
        "importlib.reload(RegressionHR.FullTrainer2)\n",
        "importlib.reload(RegressionHR.PceLstmDefaults)\n",
        "importlib.reload(PPG.UtilitiesDataXY)\n",
        "importlib.reload(preprocessing_utils)\n",
        "importlib.reload(RegressionHR.TrainerJoint)\n",
        "importlib.reload(RegressionHR.UtilitiesData)\n",
        "importlib.reload(RegressionHR.PceLstmModel)\n",
        "\n",
        "importlib.reload(preprocessing_utils)\n",
        "importlib.reload(Trainer)\n",
        "importlib.reload(Trainer.BatchTrainers)\n",
        "importlib.reload(Trainer.BatchComputers)\n",
        "importlib.reload(Trainer.ToolBox)\n",
        "importlib.reload(Trainer.Interfaces )"
      ],
      "execution_count": 5,
      "outputs": [
        {
          "output_type": "stream",
          "text": [
            "Already up to date.\n"
          ],
          "name": "stdout"
        },
        {
          "output_type": "execute_result",
          "data": {
            "text/plain": [
              "<module 'Trainer.Interfaces' from '/tmp/HeartRateRegression/Trainer/Interfaces.py'>"
            ]
          },
          "metadata": {
            "tags": []
          },
          "execution_count": 5
        }
      ]
    },
    {
      "cell_type": "code",
      "metadata": {
        "id": "eJd9nxv_n8L0"
      },
      "source": [
        "import matplotlib.pyplot as plt\n",
        "import pickle\n",
        "\n",
        "def compute_ensemble(results):\n",
        "  \n",
        "  ys = [v[\"predictions\"][0].reshape(-1).numpy() for v in results]\n",
        "  min_len_y = min([len(y) for y in ys])\n",
        "  ys = [y[:min_len_y] for y in ys]\n",
        "  for i in range(1, len(ys)-1):\n",
        "    # assert np.all(ys[i] == ys[i-1])\n",
        "    assert np.all(np.abs(ys[i] - ys[i-1])<1)\n",
        "  ps = np.stack([v[\"predictions\"][1].reshape(-1).numpy()[:min_len_y] for v in results])\n",
        "\n",
        "  s = ps[0]\n",
        "  for p in ps[1:]:\n",
        "    s = s + p\n",
        "\n",
        "  a = s/len(ps)\n",
        "  y = ys[0]\n",
        "\n",
        "  plt.figure()\n",
        "  plt.plot(a)\n",
        "  plt.plot(y)\n",
        "  plt.show()\n",
        "\n",
        "  return np.mean(np.abs(a - y)), np.mean(np.abs(ps - y))\n",
        "\n",
        "\n",
        "def compute_ensemble_named(results, model_name=\"PceLstm\"):\n",
        "  \n",
        "  results = [r[model_name] for r in results]\n",
        "\n",
        "  ys = [v[\"labels\"].reshape(-1) for v in results]\n",
        "  min_len_y = min([len(y) for y in ys])\n",
        "  ys = [y[:min_len_y] for y in ys]\n",
        "  for i in range(1, len(ys)-1):\n",
        "    # assert np.all(ys[i] == ys[i-1])\n",
        "    assert np.all(np.abs(ys[i] - ys[i-1])<1)\n",
        "  ps = np.stack([v[\"predictions\"].reshape(-1)[:min_len_y] for v in results])\n",
        "\n",
        "  s = ps[0]\n",
        "  for p in ps[1:]:\n",
        "    s = s + p\n",
        "\n",
        "  a = s/len(ps)\n",
        "  y = ys[0]\n",
        "\n",
        "  plt.figure()\n",
        "  plt.plot(a)\n",
        "  plt.plot(y)\n",
        "  plt.show()\n",
        "\n",
        "  return np.mean(np.abs(a - y)), np.mean(np.abs(ps - y))\n",
        "\n",
        "# compute_ensemble_named(aresults[0].values())"
      ],
      "execution_count": 6,
      "outputs": []
    },
    {
      "cell_type": "code",
      "metadata": {
        "colab": {
          "base_uri": "https://localhost:8080/",
          "height": 1000
        },
        "id": "mKNHPOI1n8L2",
        "outputId": "b10c57b5-9866-4f06-91e9-5e9d2b5aa99a"
      },
      "source": [
        "fchoice = {\n",
        "    'is_h_size': 64,\n",
        "    'ts_per_is': 12,\n",
        "    'period_s': 4,\n",
        "    'step_s': 2,\n",
        "    'alpha': 0.90,\n",
        "    'ts_per_sample': 50,\n",
        "    'batch_size': 64,\n",
        "    'weight_decay': 1e-05,\n",
        "    'lr': 0.005,\n",
        "    'dropout_rate': 0.15,\n",
        "    'lstm_input': 128,\n",
        "    'lstm_size': 64,\n",
        "    'ts_h_size': 16,\n",
        "    'alpha': 0.9,\n",
        "    'margin': 1,\n",
        "}\n",
        "\n",
        "discriminator_false_label = 0\n",
        "from RegressionHR import FullTrainer2\n",
        "import Trainer.BatchTrainers\n",
        "from PPG import UtilitiesDataXY\n",
        "from collections import defaultdict\n",
        "import torch \n",
        "\n",
        "nepoch = 100\n",
        "aresults_pamap2 = defaultdict(dict)\n",
        "aresults_dalia = defaultdict(dict)\n",
        "pamap2_size = 8\n",
        "dalia_size = 15\n",
        "for val_sub in range(min(pamap2_size, dalia_size)):\n",
        "  for ts_sub1 in range(pamap2_size):\n",
        "    if val_sub == ts_sub1:\n",
        "      continue\n",
        "    val_sub1 = val_sub\n",
        "    val_sub2 = val_sub\n",
        "    ts_sub2 = ts_sub1\n",
        "    full_trainer = FullTrainer2.PceLstmTripletDiscriminatorPamap2DaliaJointTraining(\n",
        "        dfs_ds1 = dfs_train_pamap2,\n",
        "        dfs_ds2 = dfs_train_dalia,\n",
        "        device = args[\"device\"],\n",
        "        nepoch = nepoch,\n",
        "        ts_sub1 = ts_sub1,\n",
        "        ts_sub2 = ts_sub2,\n",
        "        val_sub1 = val_sub1,\n",
        "        val_sub2 = val_sub2,\n",
        "        main_index = 0\n",
        "        )\n",
        "    filename = f\"pamap_ts_{ts_sub1}_val_{val_sub1}_dalia_ts_{ts_sub2}_val_{val_sub2}_alpha_{fchoice['alpha']}_lr_{fchoice['lr']}-joint_val_nepoch_{nepoch}_triplet.pkl\"\n",
        "    save_path = os.path.join(STORE_DIR, filename)\n",
        "    try:\n",
        "      with open(save_path , \"rb\") as f:\n",
        "        out = pickle.load(f)\n",
        "    except FileNotFoundError:\n",
        "      out = full_trainer.train(**fchoice)\n",
        "      with open(save_path, \"wb\") as f:\n",
        "        pickle.dump(out, f)    \n",
        "    print(out[\"args\"], [out[k]['metric'] for k in (full_trainer.lstm_name1,  full_trainer.lstm_name2, full_trainer.discriminator_name1, full_trainer.discriminator_name2)])\n",
        "    aresults_pamap2[ts_sub1][val_sub1] = out\n",
        "    print(f\"{ts_sub1}-TS:{compute_ensemble_named(list(aresults_pamap2[ts_sub1].values()), full_trainer.lstm_name1)}\")\n",
        "  for ts_sub2 in range(dalia_size):\n",
        "    if val_sub == ts_sub2:\n",
        "      continue\n",
        "    val_sub1 = val_sub\n",
        "    val_sub2 = val_sub\n",
        "    ts_sub1 = ts_sub2 % pamap2_size\n",
        "    filename = f\"dalia_ts_{ts_sub2}_val_{val_sub2}_pamap2_ts_{ts_sub1}_val_{val_sub1}_alpha_{fchoice['alpha']}_lr_{fchoice['lr']}-joint_val_nepoch_{nepoch}_triplet.pkl\"\n",
        "    save_path = os.path.join(STORE_DIR, filename)\n",
        "    try:\n",
        "      with open(save_path , \"rb\") as f:\n",
        "        out = pickle.load(f)\n",
        "    except FileNotFoundError:\n",
        "      full_trainer = FullTrainer2.PceLstmTripletDiscriminatorPamap2DaliaJointTraining(\n",
        "        dfs_ds1 = dfs_train_pamap2,\n",
        "        dfs_ds2 = dfs_train_dalia,\n",
        "        device = args[\"device\"],\n",
        "        nepoch = nepoch,\n",
        "        ts_sub1 = ts_sub1,\n",
        "        ts_sub2 = ts_sub2,\n",
        "        val_sub1 = val_sub1,\n",
        "        val_sub2 = val_sub2,\n",
        "        main_index = 1\n",
        "        )\n",
        "      out = full_trainer.train(**fchoice)\n",
        "      with open(save_path, \"wb\") as f:\n",
        "          pickle.dump(out, f)\n",
        "    print(out[\"args\"], [out[k]['metric'] for k in (full_trainer.lstm_name1,  full_trainer.lstm_name2, full_trainer.discriminator_name1, full_trainer.discriminator_name2)])\n",
        "    aresults_dalia[ts_sub2][val_sub2] = out\n",
        "    print(f\"{ts_sub2}-TS:{compute_ensemble_named(list(aresults_dalia[ts_sub1].values()), full_trainer.lstm_name2)}\")"
      ],
      "execution_count": null,
      "outputs": [
        {
          "output_type": "stream",
          "text": [
            "ts_per_is: 12\n",
            "sample_per_ts: 400\n",
            "ts_per_is: 12\n",
            "sample_per_ts: 128\n",
            "best val epoch: 1\n",
            "[1/100]: loss_train: [18.788048, 28.06131, 0.9979252986558375, 0.9889197945675632] loss_val [25.096199, 26.952827, 0.9999999981425145, 0.997965571764748] loss_ts [18.094278, 16.272348, 1.0000000004709504, 0.9999999996010992]\n",
            "best val epoch: 2\n",
            "[2/100]: loss_train: [17.875738, 21.018728, 0.994890327707165, 1.0559810325713543] loss_val [23.664186, 21.560938, 0.9999999979774047, 0.9933297919560443] loss_ts [17.351072, 21.711079, 1.0000000001177376, 1.0000000006027834]\n",
            "best val epoch: 3\n",
            "[3/100]: loss_train: [16.320402, 23.163824, 0.9951140501417194, 1.0710253662109608] loss_val [20.765343, 21.684946, 1.000000000742994, 1.0099624083607344] loss_ts [16.597586, 21.930092, 1.0000000011479413, 1.0003247646828763]\n",
            "best val epoch: 4\n",
            "[4/100]: loss_train: [15.593159, 19.442327, 0.9956351797189886, 1.0750712838505732] loss_val [20.721012, 19.949778, 0.999999999545948, 1.01113608624877] loss_ts [15.3572035, 19.31769, 0.9999999998528281, 1.000342289033495]\n",
            "best val epoch: 5\n",
            "[5/100]: loss_train: [13.593871, 17.116697, 0.9961422083119517, 1.06255389797055] loss_val [17.700798, 17.776012, 1.0000000001238323, 1.0110868620755487] loss_ts [13.006655, 14.976276, 1.000000001501154, 1.0003254900175074]\n",
            "best val epoch: 6\n",
            "[6/100]: loss_train: [11.414298, 17.41878, 0.9987105072144045, 1.0538186685735127] loss_val [13.8143425, 16.550535, 0.9999999977710174, 1.0050225756765476] loss_ts [12.201706, 10.622142, 1.000000000441516, 1.0002977211939161]\n",
            "best val epoch: 8\n",
            "[8/100]: loss_train: [9.75033, 16.613823, 1.000937300060705, 1.0207075700842931] loss_val [12.101774, 15.50223, 0.9999999998348902, 0.9777810396111345] loss_ts [16.112957, 11.516262, 1.0000000005592535, 0.9999999992642497]\n",
            "best val epoch: 11\n",
            "[11/100]: loss_train: [9.500545, 10.306711, 1.0024356226562474, 1.021333127859786] loss_val [11.018128, 11.5794325, 0.9999999984727341, 0.957094422183102] loss_ts [10.950703, 12.4531555, 0.9999999992347058, 1.0000008656147474]\n",
            "best val epoch: 20\n",
            "[20/100]: loss_train: [7.2813497, 8.951413, 1.012830182487809, 0.9854678297415376] loss_val [10.1237, 9.186461, 1.0007153589722193, 0.898779678405005] loss_ts [14.675515, 15.252868, 1.0006998801231384, 1.0003104946714012]\n",
            "best val epoch: 24\n",
            "[24/100]: loss_train: [6.343062, 8.328895, 1.0134149368201417, 1.0083373621568574] loss_val [9.156944, 8.374966, 1.0005289415656033, 0.8943761615331934] loss_ts [10.35151, 9.445047, 1.0004101535126015, 1.00088956713641]\n",
            "best val epoch: 28\n",
            "[28/100]: loss_train: [5.6699786, 6.7009974, 1.015166132598084, 1.0035096799757512] loss_val [8.309732, 7.236113, 1.0004623591734763, 0.9001172600776082] loss_ts [11.186548, 20.976305, 1.0004095743614951, 1.0008639090565399]\n",
            "best val epoch: 39\n",
            "[39/100]: loss_train: [5.8119206, 6.109911, 1.003355744356051, 0.996397088299596] loss_val [8.128055, 6.8959475, 1.0007657775258094, 0.8887614346132046] loss_ts [11.164949, 7.8928623, 1.0011884935108233, 1.001274531482232]\n",
            "best val epoch: 46\n",
            "[46/100]: loss_train: [4.6832633, 7.7249155, 0.9992608458970297, 0.9920574951037351] loss_val [7.497522, 7.668372, 1.0008212475317666, 0.8892572586873966] loss_ts [8.300488, 11.501657, 1.0011856911211838, 1.0010531457015832]\n",
            "best val epoch: 60\n",
            "[60/100]: loss_train: [4.2672095, 5.900124, 0.9974975836395599, 0.9823472535612786] loss_val [7.4781246, 6.80376, 1.001538374128434, 0.8711132499467469] loss_ts [8.603385, 15.914332, 1.001424056571207, 1.0014580633404848]\n",
            "best val epoch: 63\n",
            "[63/100]: loss_train: [3.9980845, 6.570404, 0.9867994074281111, 0.9963845659998091] loss_val [7.442914, 6.8185716, 1.001674378636471, 0.8865388273962334] loss_ts [8.852987, 8.8924885, 1.0014070775773791, 1.0014684457444918]\n",
            "best val epoch: 66\n",
            "[66/100]: loss_train: [4.0950947, 5.898979, 0.9858723371724717, 1.003101551696697] loss_val [7.2989993, 6.9966755, 1.0022567144473835, 0.9038406761893908] loss_ts [9.774908, 23.845892, 1.0020674734939763, 1.0016265509562574]\n",
            "best val epoch: 68\n",
            "[68/100]: loss_train: [4.106478, 6.796488, 0.967880533830904, 0.9874680883351377] loss_val [7.1901364, 6.9689274, 1.00255615220836, 0.9015733677226826] loss_ts [7.5081925, 6.8064117, 1.002080094019572, 1.000851328026532]\n",
            "best val epoch: 86\n",
            "[86/100]: loss_train: [4.977572, 5.866295, 0.9402039675525419, 0.9792325847665779] loss_val [6.9445653, 7.094728, 1.0017085880701562, 0.8887926042257215] loss_ts [8.225174, 17.518385, 1.0017873417006598, 1.0023289744003694]\n",
            "best val epoch: 94\n",
            "[94/100]: loss_train: [4.7260957, 6.0255075, 0.9336962524389004, 0.9663502376691516] loss_val [6.9218245, 6.5923867, 1.0018689964699283, 0.9048799076635592] loss_ts [7.757077, 11.189023, 1.0017134868362803, 1.0016667733477524]\n",
            "Final: [7.757077, 11.189023, 1.0017134868362803, 1.0016667733477524]\n",
            "{'net_args': {'is_h_size': 64, 'dropout_rate': 0.15, 'lstm_input': 128, 'lstm_size': 64, 'ts_h_size': 16}, 'margin': 1, 'alpha': 0.9, 'period_s': 4, 'step_s': 2, 'ts_per_is': 12, 'ts_per_sample': 50, 'batch_size': 64, 'weight_decay': 1e-05, 'lr': 0.005, 'ts_sub1': 1, 'ts_sub2': 1, 'val_sub1': 0, 'val_sub2': 0, 'main_index': 0} [7.757077, 11.189023, 1.0017134868362803, 1.0016667733477524]\n"
          ],
          "name": "stdout"
        },
        {
          "output_type": "display_data",
          "data": {
            "image/png": "[encoded data removed]",
            "text/plain": [
              "<Figure size 432x288 with 1 Axes>"
            ]
          },
          "metadata": {
            "tags": [],
            "needs_background": "light"
          }
        },
        {
          "output_type": "stream",
          "text": [
            "1-TS:(7.757077, 7.757077)\n",
            "ts_per_is: 12\n",
            "sample_per_ts: 400\n",
            "ts_per_is: 12\n",
            "sample_per_ts: 128\n",
            "best val epoch: 1\n",
            "[1/100]: loss_train: [20.071037, 19.47849, 0.9947755769412746, 1.0036143600494445] loss_val [18.442719, 20.501522, 0.824962826081987, 1.000000000105632] loss_ts [26.557352, 13.718834, 1.0, 0.9941687019280165]\n",
            "best val epoch: 4\n",
            "[4/100]: loss_train: [20.284971, 18.977526, 0.9936193336921063, 1.0310760233244056] loss_val [18.28668, 18.801413, 0.8216064744270765, 1.0000000008802672] loss_ts [20.537659, 12.930615, 1.0000000031742118, 1.013088758134337]\n",
            "best val epoch: 5\n",
            "[5/100]: loss_train: [19.723621, 17.005224, 0.9938268391521109, 1.0386826137514111] loss_val [17.64329, 16.656088, 0.8229546184546849, 0.9999999990070587] loss_ts [20.890125, 12.074593, 1.0002427089672823, 1.0426316545152468]\n",
            "best val epoch: 6\n",
            "[6/100]: loss_train: [17.87148, 16.88877, 0.9957130453698971, 1.0071333248084153] loss_val [16.029692, 16.024523, 0.8224164257211798, 0.9999999991267751] loss_ts [20.334099, 12.792717, 1.001351184217182, 0.9212749653595907]\n",
            "best val epoch: 7\n",
            "[7/100]: loss_train: [13.230007, 16.736286, 0.9947818327195139, 1.0126732340092228] loss_val [11.507176, 16.093807, 0.7946957291583338, 1.0000000292037408] loss_ts [16.925438, 11.951725, 1.0015064544049945, 1.0400146849084]\n",
            "best val epoch: 8\n",
            "[8/100]: loss_train: [11.252038, 15.230195, 0.9936044130594045, 1.0302834887633152] loss_val [10.276468, 15.624868, 0.8088197268148851, 1.0004230581984515] loss_ts [14.036415, 11.927196, 1.001447750442832, 1.0819374198124798]\n",
            "best val epoch: 15\n",
            "[15/100]: loss_train: [8.592801, 10.3954, 0.9963136743120357, 1.0307103168662353] loss_val [9.370732, 9.302199, 0.8228912320010056, 1.000178961650185] loss_ts [11.53156, 17.843273, 1.0014351119656535, 1.0797303794028839]\n",
            "best val epoch: 16\n",
            "[16/100]: loss_train: [8.867341, 11.905908, 0.9960057156825955, 1.0340429924205334] loss_val [9.353012, 10.986629, 0.8257917557242354, 1.0000928463467127] loss_ts [13.680269, 19.669054, 1.001286219474832, 1.0749066172798802]\n",
            "best val epoch: 20\n",
            "[20/100]: loss_train: [8.208558, 8.336525, 0.9972615519904713, 1.0055497032541705] loss_val [9.025319, 8.608718, 0.8356883053243513, 1.0000055411334074] loss_ts [12.750821, 13.335549, 1.0015878683540242, 1.0305220754971065]\n",
            "best val epoch: 21\n",
            "[21/100]: loss_train: [7.342653, 8.574252, 0.9944728218804206, 1.0288189542334294] loss_val [8.1073065, 8.618016, 0.8420837726113359, 1.0000249056289912] loss_ts [12.797796, 10.924034, 1.0017881712617254, 1.0432994551109998]\n",
            "best val epoch: 24\n",
            "[24/100]: loss_train: [7.0286446, 7.4795656, 0.9953565580985159, 1.004356089297087] loss_val [7.623129, 7.867735, 0.8347998941262093, 1.000212874679011] loss_ts [12.14309, 10.48488, 1.002449564062632, 1.0431761430530262]\n",
            "best val epoch: 31\n",
            "[31/100]: loss_train: [6.898268, 6.8765025, 0.9937248810481399, 1.0205329478162133] loss_val [7.2947965, 7.408747, 0.8459738939118808, 1.0001914452036071] loss_ts [10.944386, 19.114738, 1.0029198599637612, 0.9956596930826868]\n",
            "best val epoch: 39\n",
            "[39/100]: loss_train: [6.6002474, 6.8943114, 0.994317821457644, 1.0135437798857714] loss_val [7.247937, 7.2777405, 0.8404863989035759, 1.000013763820911] loss_ts [12.042958, 15.680449, 1.003100406753241, 0.9902660604566336]\n",
            "best val epoch: 77\n",
            "[77/100]: loss_train: [5.986316, 6.4242597, 0.9925432517554167, 1.0074029537984945] loss_val [7.1765428, 6.5015726, 0.8615952728415383, 1.0009790313534002] loss_ts [10.787321, 11.261451, 1.0034217673998613, 0.8823299676580124]\n",
            "best val epoch: 89\n",
            "[89/100]: loss_train: [5.615662, 5.64593, 0.986648042239108, 0.99445047844266] loss_val [6.8868656, 6.2629867, 0.8569391980855423, 1.0007313614207654] loss_ts [9.841741, 16.477575, 1.003583708105708, 0.8794432560074305]\n",
            "Final: [9.841741, 16.477575, 1.003583708105708, 0.8794432560074305]\n",
            "{'net_args': {'is_h_size': 64, 'dropout_rate': 0.15, 'lstm_input': 128, 'lstm_size': 64, 'ts_h_size': 16}, 'margin': 1, 'alpha': 0.9, 'period_s': 4, 'step_s': 2, 'ts_per_is': 12, 'ts_per_sample': 50, 'batch_size': 64, 'weight_decay': 1e-05, 'lr': 0.005, 'ts_sub1': 2, 'ts_sub2': 2, 'val_sub1': 0, 'val_sub2': 0, 'main_index': 0} [9.841741, 16.477575, 1.003583708105708, 0.8794432560074305]\n"
          ],
          "name": "stdout"
        },
        {
          "output_type": "display_data",
          "data": {
            "image/png": "[encoded data removed]",
            "text/plain": [
              "<Figure size 432x288 with 1 Axes>"
            ]
          },
          "metadata": {
            "tags": [],
            "needs_background": "light"
          }
        },
        {
          "output_type": "stream",
          "text": [
            "2-TS:(9.841741, 9.841741)\n",
            "ts_per_is: 12\n",
            "sample_per_ts: 400\n",
            "ts_per_is: 12\n",
            "sample_per_ts: 128\n",
            "best val epoch: 1\n",
            "[1/100]: loss_train: [21.463324, 25.529173, 0.9989189896431131, 1.001433898765956] loss_val [21.505293, 22.52215, 1.00000000016511, 0.9999999998028202] loss_ts [14.777305, 16.955725, 0.9815177438563443, 0.9999999987253733]\n",
            "best val epoch: 2\n",
            "[2/100]: loss_train: [20.686867, 20.694632, 0.9979291139715204, 0.9777922013050152] loss_val [20.707209, 21.511839, 0.9999999992982833, 0.9999999998239466] loss_ts [13.605672, 14.197869, 1.0002151887497845, 1.000000000309854]\n",
            "best val epoch: 3\n",
            "[3/100]: loss_train: [18.786488, 19.798344, 0.9946932097793371, 0.9995669437371867] loss_val [18.858574, 19.461487, 0.9999999995872254, 0.9999999997323988] loss_ts [14.545076, 11.840174, 0.9809609041835761, 0.9999999996619774]\n",
            "best val epoch: 4\n",
            "[4/100]: loss_train: [14.716907, 19.245375, 0.9901827409698726, 1.029941994706557] loss_val [14.100287, 17.708977, 0.9999999988029538, 1.0000000001760534] loss_ts [12.807069, 10.54167, 0.9714932533116161, 0.999999999795778]\n",
            "best val epoch: 5\n",
            "[5/100]: loss_train: [11.842032, 16.87965, 0.9938768490783643, 1.0015686770428955] loss_val [10.772835, 16.764324, 1.0000000014034334, 1.000004463848466] loss_ts [13.151992, 9.739319, 1.01061262260127, 0.9999999997183145]\n",
            "best val epoch: 7\n",
            "[7/100]: loss_train: [10.195663, 14.840452, 0.9954033743287485, 1.0121854000770125] loss_val [9.68277, 16.191713, 0.999999999545948, 1.0003893069979262] loss_ts [13.039485, 9.301514, 0.9814255707739032, 1.0004403395877557]\n",
            "best val epoch: 10\n",
            "[10/100]: loss_train: [9.680844, 13.768317, 0.9959377838363442, 1.0020189223270992] loss_val [9.152515, 13.675022, 0.9999999969454684, 1.0005503525862396] loss_ts [28.000225, 10.138787, 0.9819559427003887, 1.0006758493982213]\n",
            "best val epoch: 15\n",
            "[15/100]: loss_train: [9.577526, 12.316764, 0.9958085003160472, 1.0026759944723582] loss_val [8.8936825, 13.152681, 0.9999999984727341, 1.0004470238148715] loss_ts [22.951002, 9.0081005, 0.9680823967257588, 1.0005015367483596]\n",
            "best val epoch: 16\n",
            "[16/100]: loss_train: [9.144377, 11.053593, 0.9971484040300962, 1.016567654752483] loss_val [8.618312, 12.473943, 0.9999999994633931, 1.0004852708774163] loss_ts [23.889862, 31.975279, 0.9706066103568309, 1.0005255630187029]\n",
            "best val epoch: 17\n",
            "[17/100]: loss_train: [8.06732, 11.590067, 0.9971613931318751, 0.9814203725383979] loss_val [7.8650584, 11.899632, 1.000000084577505, 1.0005031930870731] loss_ts [24.325659, 33.133415, 0.9692601745450464, 1.0004948543592413]\n",
            "best val epoch: 19\n",
            "[19/100]: loss_train: [6.0589385, 10.286354, 0.9952260112962057, 0.9683926641737344] loss_val [6.361517, 11.696863, 1.0000074968526238, 1.0004955223904102] loss_ts [20.038208, 24.240044, 0.9620277297617209, 1.000519428740208]\n",
            "Final: [20.038208, 24.240044, 0.9620277297617209, 1.000519428740208]\n",
            "{'net_args': {'is_h_size': 64, 'dropout_rate': 0.15, 'lstm_input': 128, 'lstm_size': 64, 'ts_h_size': 16}, 'margin': 1, 'alpha': 0.9, 'period_s': 4, 'step_s': 2, 'ts_per_is': 12, 'ts_per_sample': 50, 'batch_size': 64, 'weight_decay': 1e-05, 'lr': 0.005, 'ts_sub1': 3, 'ts_sub2': 3, 'val_sub1': 0, 'val_sub2': 0, 'main_index': 0} [20.038208, 24.240044, 0.9620277297617209, 1.000519428740208]\n"
          ],
          "name": "stdout"
        },
        {
          "output_type": "display_data",
          "data": {
            "image/png": "[encoded data removed]",
            "text/plain": [
              "<Figure size 432x288 with 1 Axes>"
            ]
          },
          "metadata": {
            "tags": [],
            "needs_background": "light"
          }
        },
        {
          "output_type": "stream",
          "text": [
            "3-TS:(20.038208, 20.038208)\n",
            "ts_per_is: 12\n",
            "sample_per_ts: 400\n",
            "ts_per_is: 12\n",
            "sample_per_ts: 128\n",
            "best val epoch: 2\n",
            "[2/100]: loss_train: [19.308191, 17.6618, 0.9994203839845691, 1.0115106504623934] loss_val [22.60259, 16.558212, 0.9999999993808382, 1.0000000010140677] loss_ts [18.827805, 34.635075, 0.999999997275688, 1.000000000826981]\n",
            "best val epoch: 3\n",
            "[3/100]: loss_train: [17.60483, 15.268231, 0.9983187827226719, 1.0182083716273256] loss_val [21.03472, 14.220208, 0.9999999997523352, 1.0000000005070337] loss_ts [17.135786, 44.03608, 0.9999999994221156, 0.9999999998070378]\n",
            "best val epoch: 4\n",
            "[4/100]: loss_train: [16.500343, 14.4302635, 1.0017662001190308, 0.9994975746748322] loss_val [19.852943, 14.5632515, 0.9999999990093411, 1.0000000014084274] loss_ts [16.013401, 38.172523, 0.9999999998348902, 0.9999999999173019]\n",
            "best val epoch: 5\n",
            "[5/100]: loss_train: [16.073109, 14.541539, 1.005497046215853, 1.019907290366569] loss_val [18.459454, 14.152556, 1.0008529301660543, 1.0000172192142793] loss_ts [16.53136, 39.489487, 1.0004183653731755, 1.0000056036773728]\n",
            "best val epoch: 6\n",
            "[6/100]: loss_train: [13.180818, 12.231041, 1.0036066134352815, 1.010027595622685] loss_val [13.695075, 12.831637, 1.0015331601254498, 1.000103493606661] loss_ts [17.094473, 44.21095, 1.000880221250645, 0.9999999992143682]\n",
            "best val epoch: 7\n",
            "[7/100]: loss_train: [11.701562, 12.478662, 1.008296151265486, 1.0084705919208419] loss_val [11.99135, 12.906966, 1.0018573373638693, 1.0001802146646048] loss_ts [13.651651, 48.546, 1.0013114627543578, 1.0000000005444292]\n",
            "best val epoch: 9\n",
            "[9/100]: loss_train: [11.091855, 9.534715, 1.0079484661461067, 1.019943175683794] loss_val [11.882091, 9.924288, 1.0021721061494542, 1.0002048384461601] loss_ts [13.8498955, 43.61726, 1.001488424775673, 1.0000000021708246]\n",
            "best val epoch: 10\n",
            "[10/100]: loss_train: [9.727494, 9.254443, 1.008027908769691, 0.9966056598851638] loss_val [10.507984, 9.651462, 1.0022889319136532, 1.0000031379268053] loss_ts [13.745652, 44.62814, 1.001446221508808, 1.0000000009854855]\n",
            "best val epoch: 12\n",
            "[12/100]: loss_train: [9.541159, 10.99609, 1.0070154862039755, 1.0061513440741692] loss_val [10.019091, 10.798005, 1.0023172512609213, 1.000004776568629] loss_ts [18.09985, 49.232838, 1.0015848267854415, 0.9999999993108493]\n",
            "best val epoch: 15\n",
            "[15/100]: loss_train: [9.446344, 9.400819, 1.0063872079699527, 1.0305130511616072] loss_val [9.592988, 9.106163, 1.001180909635948, 1.0004830494283616] loss_ts [12.700908, 43.597546, 1.0009362380590465, 1.0002543431015314]\n",
            "best val epoch: 17\n",
            "[17/100]: loss_train: [8.512111, 8.827517, 1.0055024919713749, 1.0254205631531983] loss_val [9.187011, 8.752845, 1.0008967127496187, 1.0003157680773216] loss_ts [11.058699, 39.014027, 1.0007599860099543, 0.9999999983529299]\n",
            "best val epoch: 19\n",
            "[19/100]: loss_train: [8.848915, 8.049477, 1.0061045341412844, 1.0342773823795142] loss_val [8.832686, 7.8446264, 1.0007416850724709, 1.0004994863316783] loss_ts [11.118207, 42.70283, 1.0006786241838477, 1.0002768800870327]\n",
            "best val epoch: 23\n",
            "[23/100]: loss_train: [8.0002985, 7.413446, 1.006482617297908, 1.0067514365590695] loss_val [8.756654, 7.5457344, 1.0009827074747006, 1.0004105540538217] loss_ts [12.241533, 41.578976, 1.0006834043195043, 1.000111828905845]\n",
            "best val epoch: 24\n",
            "[24/100]: loss_train: [6.913282, 7.1671953, 1.0063971657566573, 1.0047216104996752] loss_val [7.9094934, 7.252387, 1.0008458493076202, 1.0003364448187368] loss_ts [14.740194, 43.139385, 1.0005412434441892, 1.0000000007718488]\n",
            "best val epoch: 27\n",
            "[27/100]: loss_train: [7.0867267, 6.1422386, 1.0077467873485837, 0.9956020470902635] loss_val [7.538408, 6.9143543, 1.0011464238909804, 1.0001999534849635] loss_ts [13.267764, 24.09319, 1.0008387940824857, 1.0000000008890044]\n"
          ],
          "name": "stdout"
        }
      ]
    },
    {
      "cell_type": "code",
      "metadata": {
        "id": "AhQdezTYn8L8"
      },
      "source": [
        "# filename = f\"pamap_ts_{1}_val_{0}_dalia_ts_{1}_val_{0}_alpha_{fchoice['alpha']}_lr_{fchoice['lr']}-joint_val_nepoch_{nepoch}_triplet.pkl\"\r\n",
        "# save_path = os.path.join(STORE_DIR, filename)\r\n",
        "\r\n",
        "# !ls '{save_path}'"
      ],
      "execution_count": null,
      "outputs": []
    },
    {
      "cell_type": "code",
      "metadata": {
        "id": "wUjQlXk6n8MA"
      },
      "source": [
        "def compute_metric_mean(values, k):\n",
        "  return np.mean([v[k]['metric'] for v in values])\n",
        "\n",
        "ms = dict()\n",
        "\n",
        "for k,values in aresults.items():\n",
        "  vals = list(aresults[k].values())\n",
        "  e, m = compute_ensemble_named(vals)\n",
        "  t = compute_metric_mean(vals, 'PceDiscriminator')\n",
        "  print(f\"{k}: {e} {m} {t}\")\n",
        "  ms[k] = (e, m, t)\n",
        "\n",
        "print()\n",
        "for k,v in ms.items():\n",
        "  print(k, v)\n",
        "\n"
      ],
      "execution_count": null,
      "outputs": []
    }
  ]
}