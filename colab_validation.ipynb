{
  "nbformat": 4,
  "nbformat_minor": 0,
  "metadata": {
    "orig_nbformat": 2,
    "colab": {
      "name": "colab_training.ipynb",
      "provenance": []
    },
    "kernelspec": {
      "name": "python3",
      "display_name": "Python 3"
    },
    "accelerator": "GPU"
  },
  "cells": [
    {
      "cell_type": "code",
      "metadata": {
        "id": "NkRS7VvwISGr",
        "colab_type": "code",
        "tags": [],
        "colab": {
          "base_uri": "https://localhost:8080/",
          "height": 641
        },
        "outputId": "65151eff-03d4-40da-d018-17b16b91d03e"
      },
      "source": [
        "\n",
        "#%%\n",
        "import torch\n",
        "\n",
        "args = {\n",
        "    'epoch_num': 100,     # Number of epochs.\n",
        "    'lr': 1.0e-3,           # Learning rate.\n",
        "    'weight_decay': 10e-4, # L2 penalty.\n",
        "    'momentum': 0.9,      # Momentum.\n",
        "    'batch_size': 2,     # Mini-batch size. 600\n",
        "    'batch_test': 2,     # size of test batch\n",
        "}\n",
        "\n",
        "if torch.cuda.is_available():\n",
        "    args['device'] = torch.device('cuda')\n",
        "else:\n",
        "    args['device'] = torch.device('cpu')\n",
        "\n",
        "print(args['device'])\n",
        "\n",
        "dataset_name = \"PAMAP2\"\n",
        "\n",
        "#\"OurConvLSTM\", \"AttentionTransformer\", \"DeepConvLSTM\", \"CnnIMU\"\n",
        "\n",
        "from collections import defaultdict\n",
        "\n",
        "adict = defaultdict(dict)\n",
        "\n",
        "all_subs = list(range(8))\n",
        "val_sub = 3\n",
        "for plot_subject in [1]: #[i for i in all_subs if i != val_sub]:\n",
        "\n",
        "\n",
        "  ! pip install wget\n",
        "  import os\n",
        "  import torch\n",
        "  import pandas as pd\n",
        "  import numpy as np\n",
        "  import torch\n",
        "  from torch import nn\n",
        "\n",
        "\n",
        "  ssh_config = \"\"\"\n",
        "  Host github.com\n",
        "    IdentityFile ~/.ssh/github.pem\n",
        "    User davipeag\n",
        "    StrictHostKeyChecking no\n",
        "  \"\"\"\n",
        "\n",
        "  if os.name == 'nt':\n",
        "    base_path = \"\"\n",
        "    REPO_DIR = \".\"\n",
        "    STORE_DIR =\".\" \n",
        "    print(\"Windows\")\n",
        "  else:\n",
        "    print(\"Unix-like\")\n",
        "    REPO_DIR = \"/tmp/HeartRateRegression\"\n",
        "    from google.colab import drive\n",
        "    drive.mount('/content/drive')\n",
        "    GIT_PATH = \"/content/drive/My\\ Drive/deeplearning_project/github.pem\"\n",
        "    DATA_PATH = \"/content/drive/My\\ Drive/deeplearning_project/normalized.zip\"\n",
        "    STORE_DIR =\"/content/drive/My Drive/deeplearning_project/\" \n",
        "    !mkdir ~/.ssh\n",
        "    !cp -u {GIT_PATH} ~/.ssh/\n",
        "    !chmod u=rw,g=,o= ~/.ssh/github.pem\n",
        "    !echo \"{ssh_config}\" > ~/.ssh/config\n",
        "    !chmod u=rw,g=,o= ~/.ssh/config\n",
        "    ! (cd /tmp && git clone git@github.com:davipeag/HeartRateRegression.git)\n",
        "    ! (cd {REPO_DIR} && git pull )\n",
        "    import sys\n",
        "    sys.path.append(REPO_DIR)\n",
        "\n",
        "\n",
        "\n",
        "  def git_push():\n",
        "    if os.name == 'nt':\n",
        "      pass\n",
        "    else:\n",
        "      ! git config --global user.email \"daviaguiar@outlook.com\"\n",
        "      ! git config --global user.name \"Davi Pedrosa de Aguiar\"\n",
        "      print(\"going to push\")\n",
        "      ! (cd {REPO_DIR} && git pull && cd -)\n",
        "      ! (cd {REPO_DIR} && git add . && git commit -m \"from colab\" && git push)\n",
        "\n",
        "  def git_pull():\n",
        "    if os.name == 'nt':\n",
        "      pass\n",
        "    else:\n",
        "      ! git config --global user.email \"daviaguiar@outlook.com\"\n",
        "      ! git config --global user.name \"Davi Pedrosa de Aguiar\"\n",
        "      print(\"going to push\")\n",
        "      ! (cd {REPO_DIR} && git pull && cd -)\n",
        "      \n",
        "    \n",
        "  git_push()\n",
        "\n",
        "\n",
        "\n",
        "  from data_utils import (\n",
        "      Pamap2Handler, cross_validation_split)\n",
        "\n",
        "  from default_utils import DefaultPamapPreprocessing\n",
        "  from preprocessing_utils import (OurConvLstmToAttentionFormat, OurConvLstmToCnnImuFormat)\n",
        "\n",
        "  from models_utils import OurConvLstmDataset, make_loader, reset_seeds\n",
        "  from models_utils import DatasetXY\n",
        "\n",
        "  from default_utils import TrainOurConvLSTM, TrainXY\n",
        "  from default_utils import make_our_conv_lstm, make_attention_transormer_model \n",
        "  from torch import nn\n",
        "\n",
        "  from options import (\n",
        "    preprocessing_options,\n",
        "    trainer_options,\n",
        "    dataset_cls_options,\n",
        "    net_options\n",
        "  )\n",
        "\n",
        "  reset_seeds()\n",
        "\n",
        "\n",
        "  #%%\n",
        "\n",
        "#   dataset_handler = Pamap2Handler(os.path.join(REPO_DIR, \"..\"))\n",
        "\n",
        "#   dfs = [dataset_handler.get_protocol_subject(s) for s in [1,2,3,4,5,6,7,8]]\n",
        "#   df_full = pd.concat(dfs)\n",
        "\n",
        "  dataset_handler = Pamap2Handler(os.path.join(REPO_DIR, \"..\"))\n",
        "\n",
        "  df_ts = dataset_handler.get_protocol_subject(plot_subject + 1)\n",
        "\n",
        "  max_size = (len(df_ts)//300) -  10\n",
        "\n",
        "  is_size = 2 \n",
        "  recursive_size = max_size - is_size\n",
        "  total_size = recursive_size + is_size\n",
        "  \n",
        "  models = [\"OurConvLSTM\", \"DeepConvLSTM\", \"FCNN\", \"CnnIMU\"]\n",
        "\n",
        "  from default_utils import FcPamapPreprocessing, make_fcnn\n",
        "\n",
        "  preprocessors =[preprocessing_options[model](total_size) for model in models]\n",
        "  tdata = list()\n",
        "  for preprocessor in preprocessors:\n",
        "      tdata.append(preprocessor.transformers_ts.transform(df_ts))\n",
        "\n",
        "  datasets_cls = [dataset_cls_options[model_type] for model_type in models]\n",
        "\n",
        "  loaders = [make_loader([xy], dataset_cls, batch_size = args[\"batch_size\"], shuffle=False)\n",
        "              for dataset_cls, xy in zip(datasets_cls, tdata)]\n",
        "\n",
        "\n",
        "  from default_utils import make_cnn_imu2\n",
        "  from default_utils import make_deep_conv_lstm\n",
        "\n",
        "\n",
        "  nets = [net_options[model_type](total_size, recursive_size).to(args[\"device\"]) for model_type in models]\n",
        "\n",
        "  criterion = nn.L1Loss().to(args[\"device\"]) \n",
        "\n",
        "  trainers = list()\n",
        "\n",
        "  for preprocessor,net, model_type in zip(preprocessors,nets, models):\n",
        "\n",
        "      optimizer = torch.optim.Adam(net.parameters(), lr=args[\"lr\"],\n",
        "                              weight_decay=args[\"weight_decay\"])\n",
        "\n",
        "      basic_training_parameters = {\n",
        "          \"net\": net,\n",
        "          \"criterion\": criterion,\n",
        "          \"optimizer\": optimizer,\n",
        "          \"loader_tr\": None,\n",
        "          \"loader_val\": None,\n",
        "          \"loader_ts\": None,\n",
        "          \"normdz\": preprocessor.normdz,\n",
        "          \"ztransformer\": preprocessor.ztransformer,\n",
        "          \"device\": args[\"device\"]\n",
        "      }\n",
        "\n",
        "\n",
        "      trainer = trainer_options[model_type](basic_training_parameters)\n",
        "      trainers.append(trainer)\n",
        "\n",
        "  import os\n",
        "  import matplotlib.pyplot as plt\n",
        "  figures = list()\n",
        "  for idx in range(1):\n",
        "    fig, ax = plt.subplots(figsize=(15,10))\n",
        "    figures.append((fig, ax))\n",
        "    for model_type, loader, trainer in list(zip(models, loaders, trainers))[0:]:\n",
        "        mae = trainer.compute_mean_MAE(loader)\n",
        "        \n",
        "        state_dict_name = f\"trained_models/{model_type}ts_{plot_subject}_val_{val_sub}.pkl\"\n",
        "        state_dict_path = os.path.join(STORE_DIR, state_dict_name)\n",
        "        trainer.net.load_state_dict(torch.load(state_dict_path, map_location=args[\"device\"]))\n",
        "        y,p = trainer.reverse_transformed_prediction_labels(loader)\n",
        "        mae = np.abs(y-p).mean()\n",
        "        max_deviation = np.abs(y-p).max()\n",
        "        print(f\"{model_type}_ts_{plot_subject}_val_{val_sub}: \\{mae: {mae}, max_deviation: {max_deviation}\\}\")\n",
        "        adict[f\"{model_type}_{plot_subject}\"] = np.hstack(p)\n",
        "        ax.plot(np.linspace(0, 3*(len(p[idx])-1), len(p[idx])), p[idx], label=model_type)\n",
        "    adict[f\"label_{plot_subject}\"] = np.hstack(y)\n",
        "    ax.plot(np.linspace(0, 3*(len(p[idx])-1), len(p[idx])), y[idx], 'k', label=\"actual\")\n",
        "    ax.set_ylabel(\"heart rate [beats per minute]\")\n",
        "    ax.set_xlabel(\"time[seconds]\")\n",
        "    ax.legend()\n",
        "    fig.show()\n"
      ],
      "execution_count": null,
      "outputs": [
        {
          "output_type": "stream",
          "text": [
            "cuda\n",
            "Collecting wget\n",
            "  Downloading https://files.pythonhosted.org/packages/47/6a/62e288da7bcda82b935ff0c6cfe542970f04e29c756b0e147251b2fb251f/wget-3.2.zip\n",
            "Building wheels for collected packages: wget\n",
            "  Building wheel for wget (setup.py) ... \u001b[?25l\u001b[?25hdone\n",
            "  Created wheel for wget: filename=wget-3.2-cp36-none-any.whl size=9682 sha256=ef5839f0a7a08e9856211f5d47645711a784766edb6cc346f7f40a7b21015d89\n",
            "  Stored in directory: /root/.cache/pip/wheels/40/15/30/7d8f7cea2902b4db79e3fea550d7d7b85ecb27ef992b618f3f\n",
            "Successfully built wget\n",
            "Installing collected packages: wget\n",
            "Successfully installed wget-3.2\n",
            "Unix-like\n",
            "Go to this URL in a browser: https://accounts.google.com/o/oauth2/auth?client_id=947318989803-6bn6qk8qdgf4n4g3pfee6491hc0brc4i.apps.googleusercontent.com&redirect_uri=urn%3aietf%3awg%3aoauth%3a2.0%3aoob&scope=email%20https%3a%2f%2fwww.googleapis.com%2fauth%2fdocs.test%20https%3a%2f%2fwww.googleapis.com%2fauth%2fdrive%20https%3a%2f%2fwww.googleapis.com%2fauth%2fdrive.photos.readonly%20https%3a%2f%2fwww.googleapis.com%2fauth%2fpeopleapi.readonly&response_type=code\n",
            "\n",
            "Enter your authorization code:\n",
            "··········\n",
            "Mounted at /content/drive\n",
            "Cloning into 'HeartRateRegression'...\n",
            "Warning: Permanently added 'github.com,192.30.255.112' (RSA) to the list of known hosts.\n",
            "remote: Enumerating objects: 10, done.\u001b[K\n",
            "remote: Counting objects: 100% (10/10), done.\u001b[K\n",
            "remote: Compressing objects: 100% (8/8), done.\u001b[K\n",
            "remote: Total 395 (delta 3), reused 7 (delta 2), pack-reused 385\u001b[K\n",
            "Receiving objects: 100% (395/395), 86.94 MiB | 34.41 MiB/s, done.\n",
            "Resolving deltas: 100% (230/230), done.\n",
            "Already up to date.\n",
            "going to push\n",
            "Warning: Permanently added the RSA host key for IP address '192.30.255.113' to the list of known hosts.\n",
            "Already up to date.\n",
            "/content\n",
            "On branch master\n",
            "Your branch is up to date with 'origin/master'.\n",
            "\n",
            "nothing to commit, working tree clean\n",
            "download\n"
          ],
          "name": "stdout"
        }
      ]
    },
    {
      "cell_type": "code",
      "metadata": {
        "id": "DfkS12OofDa8",
        "colab_type": "code",
        "colab": {
          "base_uri": "https://localhost:8080/",
          "height": 34
        },
        "outputId": "1db43524-e2ee-4496-aec1-a54d5f4185f3"
      },
      "source": [
        "# df = pd.DataFrame.from_dict(adict)\n",
        "\n",
        "# adict.keys()\n",
        "mae = np.abs(y-p).mean()\n",
        "max_deviation = np.abs(y-p).max()\n",
        "\n",
        "mae, max_deviation\n",
        "# ax = df[[\"label_1\", \"CnnIMU_1\", \"OurConvLSTM_1\"]].plot()\n",
        "# ax.set_xlabel(\"elapsed time [s]\")\n",
        "# ax.set_ylabel(\"heart rate [bps]\")"
      ],
      "execution_count": 29,
      "outputs": [
        {
          "output_type": "execute_result",
          "data": {
            "text/plain": [
              "(13.594075, 58.566406)"
            ]
          },
          "metadata": {
            "tags": []
          },
          "execution_count": 29
        }
      ]
    },
    {
      "cell_type": "code",
      "metadata": {
        "id": "LCe2rHMAsIfu",
        "colab_type": "code",
        "colab": {
          "base_uri": "https://localhost:8080/",
          "height": 34
        },
        "outputId": "66a7258d-1e14-45ed-e11e-bb83f634441d"
      },
      "source": [
        "type(y)"
      ],
      "execution_count": 24,
      "outputs": [
        {
          "output_type": "execute_result",
          "data": {
            "text/plain": [
              "numpy.ndarray"
            ]
          },
          "metadata": {
            "tags": []
          },
          "execution_count": 24
        }
      ]
    },
    {
      "cell_type": "code",
      "metadata": {
        "id": "7V_pi8pMpeqU",
        "colab_type": "code",
        "colab": {
          "base_uri": "https://localhost:8080/",
          "height": 34
        },
        "outputId": "586a5274-ff87-41e7-8075-ccd481054c22"
      },
      "source": [
        "(df[\"label_0\"] - df[\"CnnIMU_0\"]).abs().mean(), (df[\"label_0\"] - df[\"OurConvLSTM_0\"]).abs().mean() "
      ],
      "execution_count": 14,
      "outputs": [
        {
          "output_type": "execute_result",
          "data": {
            "text/plain": [
              "(11.147679328918457, 12.100821495056152)"
            ]
          },
          "metadata": {
            "tags": []
          },
          "execution_count": 14
        }
      ]
    },
    {
      "cell_type": "code",
      "metadata": {
        "id": "SCujAJ5ifaNJ",
        "colab_type": "code",
        "colab": {
          "base_uri": "https://localhost:8080/",
          "height": 34
        },
        "outputId": "850057f2-6d5d-42cc-ba47-a3c27677cf0a"
      },
      "source": [
        "x,l = loaders[1].__iter__().__next__()\n",
        "net= trainers[1].net\n",
        "v = net(x)\n",
        "v.shape\n",
        "\n",
        "# loader = loaders[-1]\n",
        "# models"
      ],
      "execution_count": 30,
      "outputs": [
        {
          "output_type": "execute_result",
          "data": {
            "text/plain": [
              "torch.Size([2, 4, 1])"
            ]
          },
          "metadata": {
            "tags": []
          },
          "execution_count": 30
        }
      ]
    },
    {
      "cell_type": "code",
      "metadata": {
        "id": "Vdl-dGsQjbUT",
        "colab_type": "code",
        "colab": {}
      },
      "source": [
        "x.shape\n",
        "cval = net.conv(x)"
      ],
      "execution_count": 35,
      "outputs": []
    },
    {
      "cell_type": "code",
      "metadata": {
        "id": "tz5Hf2Gbf8Ps",
        "colab_type": "code",
        "colab": {
          "base_uri": "https://localhost:8080/",
          "height": 34
        },
        "outputId": "5fbdcbb7-3c57-401c-d978-646ffbe87749"
      },
      "source": [
        "lo, _ = net.lstm(torch.flatten(cval.transpose(2,1),start_dim=2))\n",
        "lo.shape"
      ],
      "execution_count": 39,
      "outputs": [
        {
          "output_type": "execute_result",
          "data": {
            "text/plain": [
              "torch.Size([2, 16200, 128])"
            ]
          },
          "metadata": {
            "tags": []
          },
          "execution_count": 39
        }
      ]
    },
    {
      "cell_type": "code",
      "metadata": {
        "id": "jP1l2T15k5y0",
        "colab_type": "code",
        "colab": {
          "base_uri": "https://localhost:8080/",
          "height": 34
        },
        "outputId": "3cd7f0ca-ecc1-4c99-c0b8-c17e758c0ae8"
      },
      "source": [
        "net.mask"
      ],
      "execution_count": 43,
      "outputs": [
        {
          "output_type": "execute_result",
          "data": {
            "text/plain": [
              "[15899, 15999, 16099, 16199]"
            ]
          },
          "metadata": {
            "tags": []
          },
          "execution_count": 43
        }
      ]
    },
    {
      "cell_type": "code",
      "metadata": {
        "id": "9fiBFA9bINxZ",
        "colab_type": "code",
        "colab": {}
      },
      "source": [
        "xi, yi, xr, yp, p = trainer.get_data_epoch(loader_ts)\n",
        "\n",
        "print(trainer.HR_MAE(yi, yp, p))\n",
        "# yr = trainer.inverse_transform_label(yi,yp)\n",
        "# pr = trainer.inverse_transform_label(yi,p)\n",
        "\n",
        "yi = yi.detach().cpu().numpy()\n",
        "yp = yp.detach().cpu().numpy()\n",
        "p = p.detach().cpu().numpy()\n",
        "\n",
        "yr = trainer.inverse_transform_label(yi,yp)\n",
        "pr = trainer.inverse_transform_label(yi,p)\n",
        "\n",
        "np.mean(np.abs(pr-yr))\n",
        "#trainer.HR_MAE(yi, yr, p)\n",
        "#pr.shape, yr.shape"
      ],
      "execution_count": null,
      "outputs": []
    },
    {
      "cell_type": "code",
      "metadata": {
        "id": "XhvUq4S7TpHe",
        "colab_type": "code",
        "colab": {}
      },
      "source": [
        "plt.plot(yr[0])\n",
        "plt.plot(pr[0])\n",
        "np.mean(np.abs(pr[0]-yr[0]))"
      ],
      "execution_count": null,
      "outputs": []
    },
    {
      "cell_type": "code",
      "metadata": {
        "id": "8Llp40_diEhC",
        "colab_type": "code",
        "colab": {}
      },
      "source": [
        "batch = loader_ts.__iter__().__next__()"
      ],
      "execution_count": null,
      "outputs": []
    },
    {
      "cell_type": "code",
      "metadata": {
        "id": "47Vec_erUWvg",
        "colab_type": "code",
        "colab": {}
      },
      "source": [
        "df_ts.__len__()/300"
      ],
      "execution_count": null,
      "outputs": []
    },
    {
      "cell_type": "code",
      "metadata": {
        "id": "crVtLNrrUt6T",
        "colab_type": "code",
        "colab": {}
      },
      "source": [
        ""
      ],
      "execution_count": null,
      "outputs": []
    }
  ]
}